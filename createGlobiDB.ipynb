{
 "cells": [
  {
   "cell_type": "raw",
   "metadata": {},
   "source": [
    "# Create the file globi.db\n",
    "\n",
    "To speed up the processing of data from GLOBI it is better to use it as a SQLITE database"
   ]
  },
  {
   "cell_type": "code",
   "execution_count": 1,
   "metadata": {},
   "outputs": [
    {
     "name": "stdout",
     "output_type": "stream",
     "text": [
      "3.7.3 (default, Mar 27 2019, 17:13:21) [MSC v.1915 64 bit (AMD64)]\n"
     ]
    }
   ],
   "source": [
    "import pandas as pd\n",
    "import sys\n",
    "print(sys.version)\n",
    "\n",
    "#Python 3.7.4 (default, Aug 9 2019, 18:34:13) [MSC v.1915 64 bit (AMD64)]\n",
    "#pygbif 0.3.0"
   ]
  },
  {
   "cell_type": "markdown",
   "metadata": {},
   "source": [
    "## Create a SQLite database with APSW"
   ]
  },
  {
   "cell_type": "code",
   "execution_count": 2,
   "metadata": {},
   "outputs": [],
   "source": [
    "import sqlite3\n",
    "from sqlite3 import Error"
   ]
  },
  {
   "cell_type": "code",
   "execution_count": 3,
   "metadata": {},
   "outputs": [],
   "source": [
    "database = r\"globi.db\"\n",
    "try:\n",
    "    conn = sqlite3.connect(database)\n",
    "except Error as e:\n",
    "    print(e)"
   ]
  },
  {
   "cell_type": "code",
   "execution_count": 4,
   "metadata": {},
   "outputs": [],
   "source": [
    "\n",
    " \n",
    "sql_create_globi_table = \"\"\" CREATE TABLE IF NOT EXISTS globi (\n",
    "                                                            sourceTaxonId,\n",
    "                                                            sourceTaxonIds,\n",
    "                                                            sourceTaxonName,\n",
    "                                                            sourceTaxonRank,\n",
    "                                                            sourceTaxonPathNames,\n",
    "                                                            sourceTaxonPathIds,\n",
    "                                                            sourceTaxonPathRankNames,\n",
    "                                                            sourceTaxonSpeciesName,\n",
    "                                                            sourceTaxonSpeciesId,\n",
    "                                                            sourceTaxonGenusName,\n",
    "                                                            sourceTaxonGenusId,\n",
    "                                                            sourceTaxonFamilyName,\n",
    "                                                            sourceTaxonFamilyId,\n",
    "                                                            sourceTaxonOrderName,\n",
    "                                                            sourceTaxonOrderId,\n",
    "                                                            sourceTaxonClassName,\n",
    "                                                            sourceTaxonClassId,\n",
    "                                                            sourceTaxonPhylumName,\n",
    "                                                            sourceTaxonPhylumId,\n",
    "                                                            sourceTaxonKingdomName,\n",
    "                                                            sourceTaxonKingdomId,\n",
    "                                                            sourceId,\n",
    "                                                            sourceOccurrenceId,\n",
    "                                                            sourceCatalogNumber,\n",
    "                                                            sourceBasisOfRecordId,\n",
    "                                                            sourceBasisOfRecordName,\n",
    "                                                            sourceLifeStageId,\n",
    "                                                            sourceLifeStageName,\n",
    "                                                            sourceBodyPartId,\n",
    "                                                            sourceBodyPartName,\n",
    "                                                            sourcePhysiologicalStateId,\n",
    "                                                            sourcePhysiologicalStateName,\n",
    "                                                            sourceSexId,\n",
    "                                                            sourceSexName,\n",
    "                                                            interactionTypeName,\n",
    "                                                            interactionTypeId,\n",
    "                                                            targetTaxonId,\n",
    "                                                            targetTaxonIds,\n",
    "                                                            targetTaxonName,\n",
    "                                                            targetTaxonRank,\n",
    "                                                            targetTaxonPathNames,\n",
    "                                                            targetTaxonPathIds,\n",
    "                                                            targetTaxonPathRankNames,\n",
    "                                                            targetTaxonSpeciesName,\n",
    "                                                            targetTaxonSpeciesId,\n",
    "                                                            targetTaxonGenusName,\n",
    "                                                            targetTaxonGenusId,\n",
    "                                                            targetTaxonFamilyName,\n",
    "                                                            targetTaxonFamilyId,\n",
    "                                                            targetTaxonOrderName,\n",
    "                                                            targetTaxonOrderId,\n",
    "                                                            targetTaxonClassName,\n",
    "                                                            targetTaxonClassId,\n",
    "                                                            targetTaxonPhylumName,\n",
    "                                                            targetTaxonPhylumId,\n",
    "                                                            targetTaxonKingdomName,\n",
    "                                                            targetTaxonKingdomId,\n",
    "                                                            targetId,\n",
    "                                                            targetOccurrenceId,\n",
    "                                                            targetCatalogNumber,\n",
    "                                                            targetBasisOfRecordId,\n",
    "                                                            targetBasisOfRecordName,\n",
    "                                                            targetLifeStageId,\n",
    "                                                            targetLifeStageName,\n",
    "                                                            targetBodyPartId,\n",
    "                                                            targetBodyPartName,\n",
    "                                                            targetPhysiologicalStateId,\n",
    "                                                            targetPhysiologicalStateName,\n",
    "                                                            targetSexId,\n",
    "                                                            targetSexName,\n",
    "                                                            decimalLatitude,\n",
    "                                                            decimalLongitude,\n",
    "                                                            localityId,\n",
    "                                                            localityName,\n",
    "                                                            eventDateUnixEpoch,\n",
    "                                                            argumentTypeId,\n",
    "                                                            referenceCitation,\n",
    "                                                            referenceDoi,\n",
    "                                                            referenceUrl,\n",
    "                                                            sourceCitation,\n",
    "                                                            sourceNamespace,\n",
    "                                                            sourceArchiveURI,\n",
    "                                                            sourceDOI,\n",
    "                                                            sourceLastSeenAtUnixEpoch\n",
    "                                                        ); \"\"\""
   ]
  },
  {
   "cell_type": "code",
   "execution_count": 5,
   "metadata": {},
   "outputs": [],
   "source": [
    "# create table\n",
    "try:\n",
    "    conn.execute(sql_create_globi_table)\n",
    "    conn.commit()\n",
    "except Error as e:\n",
    "    print(e)"
   ]
  },
  {
   "cell_type": "code",
   "execution_count": 6,
   "metadata": {},
   "outputs": [],
   "source": [
    "sql_create_refutes_table = \"\"\" CREATE TABLE IF NOT EXISTS globirefutes (\n",
    "                                                            sourceTaxonId,\n",
    "                                                            sourceTaxonIds,\n",
    "                                                            sourceTaxonName,\n",
    "                                                            sourceTaxonRank,\n",
    "                                                            sourceTaxonPathNames,\n",
    "                                                            sourceTaxonPathIds,\n",
    "                                                            sourceTaxonPathRankNames,\n",
    "                                                            sourceTaxonSpeciesName,\n",
    "                                                            sourceTaxonSpeciesId,\n",
    "                                                            sourceTaxonGenusName,\n",
    "                                                            sourceTaxonGenusId,\n",
    "                                                            sourceTaxonFamilyName,\n",
    "                                                            sourceTaxonFamilyId,\n",
    "                                                            sourceTaxonOrderName,\n",
    "                                                            sourceTaxonOrderId,\n",
    "                                                            sourceTaxonClassName,\n",
    "                                                            sourceTaxonClassId,\n",
    "                                                            sourceTaxonPhylumName,\n",
    "                                                            sourceTaxonPhylumId,\n",
    "                                                            sourceTaxonKingdomName,\n",
    "                                                            sourceTaxonKingdomId,\n",
    "                                                            sourceId,\n",
    "                                                            sourceOccurrenceId,\n",
    "                                                            sourceCatalogNumber,\n",
    "                                                            sourceBasisOfRecordId,\n",
    "                                                            sourceBasisOfRecordName,\n",
    "                                                            sourceLifeStageId,\n",
    "                                                            sourceLifeStageName,\n",
    "                                                            sourceBodyPartId,\n",
    "                                                            sourceBodyPartName,\n",
    "                                                            sourcePhysiologicalStateId,\n",
    "                                                            sourcePhysiologicalStateName,\n",
    "                                                            sourceSexId,\n",
    "                                                            sourceSexName,\n",
    "                                                            interactionTypeName,\n",
    "                                                            interactionTypeId,\n",
    "                                                            targetTaxonId,\n",
    "                                                            targetTaxonIds,\n",
    "                                                            targetTaxonName,\n",
    "                                                            targetTaxonRank,\n",
    "                                                            targetTaxonPathNames,\n",
    "                                                            targetTaxonPathIds,\n",
    "                                                            targetTaxonPathRankNames,\n",
    "                                                            targetTaxonSpeciesName,\n",
    "                                                            targetTaxonSpeciesId,\n",
    "                                                            targetTaxonGenusName,\n",
    "                                                            targetTaxonGenusId,\n",
    "                                                            targetTaxonFamilyName,\n",
    "                                                            targetTaxonFamilyId,\n",
    "                                                            targetTaxonOrderName,\n",
    "                                                            targetTaxonOrderId,\n",
    "                                                            targetTaxonClassName,\n",
    "                                                            targetTaxonClassId,\n",
    "                                                            targetTaxonPhylumName,\n",
    "                                                            targetTaxonPhylumId,\n",
    "                                                            targetTaxonKingdomName,\n",
    "                                                            targetTaxonKingdomId,\n",
    "                                                            targetId,\n",
    "                                                            targetOccurrenceId,\n",
    "                                                            targetCatalogNumber,\n",
    "                                                            targetBasisOfRecordId,\n",
    "                                                            targetBasisOfRecordName,\n",
    "                                                            targetLifeStageId,\n",
    "                                                            targetLifeStageName,\n",
    "                                                            targetBodyPartId,\n",
    "                                                            targetBodyPartName,\n",
    "                                                            targetPhysiologicalStateId,\n",
    "                                                            targetPhysiologicalStateName,\n",
    "                                                            targetSexId,\n",
    "                                                            targetSexName,\n",
    "                                                            decimalLatitude,\n",
    "                                                            decimalLongitude,\n",
    "                                                            localityId,\n",
    "                                                            localityName,\n",
    "                                                            eventDateUnixEpoch,\n",
    "                                                            argumentTypeId,\n",
    "                                                            referenceCitation,\n",
    "                                                            referenceDoi,\n",
    "                                                            referenceUrl,\n",
    "                                                            sourceCitation,\n",
    "                                                            sourceNamespace,\n",
    "                                                            sourceArchiveURI,\n",
    "                                                            sourceDOI,\n",
    "                                                            sourceLastSeenAtUnixEpoch\n",
    "                                                        ); \"\"\""
   ]
  },
  {
   "cell_type": "code",
   "execution_count": 7,
   "metadata": {},
   "outputs": [],
   "source": [
    "# create table\n",
    "try:\n",
    "    conn.execute(sql_create_refutes_table)\n",
    "    conn.commit()\n",
    "except Error as e:\n",
    "    print(e)"
   ]
  },
  {
   "cell_type": "markdown",
   "metadata": {},
   "source": [
    "## Clear down the table before filling it up again"
   ]
  },
  {
   "cell_type": "code",
   "execution_count": 8,
   "metadata": {
    "scrolled": true
   },
   "outputs": [
    {
     "data": {
      "text/plain": [
       "<sqlite3.Cursor at 0x1fa2399db20>"
      ]
     },
     "execution_count": 8,
     "metadata": {},
     "output_type": "execute_result"
    }
   ],
   "source": [
    "conn.execute('DELETE FROM globi')"
   ]
  },
  {
   "cell_type": "code",
   "execution_count": null,
   "metadata": {},
   "outputs": [
    {
     "data": {
      "text/plain": [
       "<sqlite3.Cursor at 0x1fa2399dc70>"
      ]
     },
     "execution_count": 9,
     "metadata": {},
     "output_type": "execute_result"
    }
   ],
   "source": [
    "conn.commit()\n",
    "conn.execute('VACUUM')"
   ]
  },
  {
   "cell_type": "markdown",
   "metadata": {},
   "source": [
    "## Load the globi table\n",
    "Where interactions are refuted GloBI creates an entry in the database with an argumentTypeId of https://en.wiktionary.org/wiki/refute. These refuted interactions are loaded into a seperate table"
   ]
  },
  {
   "cell_type": "code",
   "execution_count": null,
   "metadata": {
    "scrolled": true
   },
   "outputs": [
    {
     "name": "stdout",
     "output_type": "stream",
     "text": [
      "Connected to SQLite\n"
     ]
    }
   ],
   "source": [
    "cursor = conn.cursor()\n",
    "print(\"Connected to SQLite\")\n",
    "\n",
    "with open(r\"interactions.tsv\", \"r\", encoding='utf-8') as f:        \n",
    "    rows = f.readlines()\n",
    "    for row in rows:\n",
    "        fields = row.split('\\t')\n",
    "        if fields[75] == \"https://en.wiktionary.org/wiki/support\":\n",
    "            conn.execute(\"\"\"INSERT INTO globi (sourceTaxonId, sourceTaxonIds, sourceTaxonName, sourceTaxonRank, \\\n",
    "                                    sourceTaxonPathNames, sourceTaxonPathIds, sourceTaxonPathRankNames, sourceTaxonSpeciesName, \\\n",
    "                                    sourceTaxonSpeciesId, sourceTaxonGenusName, sourceTaxonGenusId, sourceTaxonFamilyName, \\\n",
    "                                    sourceTaxonFamilyId, sourceTaxonOrderName, sourceTaxonOrderId, sourceTaxonClassName, \\\n",
    "                                    sourceTaxonClassId, sourceTaxonPhylumName, sourceTaxonPhylumId, sourceTaxonKingdomName, \\\n",
    "                                    sourceTaxonKingdomId, sourceId, sourceOccurrenceId, sourceCatalogNumber, sourceBasisOfRecordId, \\\n",
    "                                    sourceBasisOfRecordName, sourceLifeStageId, sourceLifeStageName, sourceBodyPartId, \\\n",
    "                                    sourceBodyPartName, sourcePhysiologicalStateId, sourcePhysiologicalStateName, \\\n",
    "                                    sourceSexId, sourceSexName, \\\n",
    "                                    interactionTypeName, interactionTypeId, targetTaxonId, targetTaxonIds, targetTaxonName, \\\n",
    "                                    targetTaxonRank, targetTaxonPathNames, targetTaxonPathIds, targetTaxonPathRankNames, \\\n",
    "                                    targetTaxonSpeciesName, targetTaxonSpeciesId, targetTaxonGenusName, targetTaxonGenusId, \\\n",
    "                                    targetTaxonFamilyName, targetTaxonFamilyId, targetTaxonOrderName, targetTaxonOrderId, \\\n",
    "                                    targetTaxonClassName, targetTaxonClassId, targetTaxonPhylumName, targetTaxonPhylumId, \\\n",
    "                                    targetTaxonKingdomName, targetTaxonKingdomId, targetId, targetOccurrenceId, targetCatalogNumber, \\\n",
    "                                    targetBasisOfRecordId, targetBasisOfRecordName, targetLifeStageId, targetLifeStageName, \\\n",
    "                                    targetBodyPartId, targetBodyPartName, targetPhysiologicalStateId, targetPhysiologicalStateName, \\\n",
    "                                    targetSexId, targetSexName, \\\n",
    "                                    decimalLatitude, decimalLongitude, localityId, localityName, eventDateUnixEpoch, argumentTypeId, \\\n",
    "                                    referenceCitation, referenceDoi, referenceUrl, sourceCitation, sourceNamespace, \\\n",
    "                                    sourceArchiveURI, sourceDOI, sourceLastSeenAtUnixEpoch) \\\n",
    "                                    VALUES(?,?,?,?,?,?,?,?,?,?,?,?,?,?,?,?,?,?,?,?,?,?,?,?,?,?,?,?,?,?,?,?,?,?,?,?,?,?,?,?,?,?,?,?,?,?,?,?,?,?,?,?,?,?,?,?,?,?,?,?,?,?,?,?,?,?,?,?,?,?,?,?,?,?,?,?,?,?,?,?,?,?,?,?)\"\"\", \\\n",
    "                                    (fields[0],fields[1],fields[2],fields[3],fields[4], \\\n",
    "                                     fields[5],fields[6],fields[7],fields[8],fields[9], \\\n",
    "                                     fields[10],fields[11],fields[12],fields[13],fields[14], \\\n",
    "                                     fields[15],fields[16],fields[17],fields[18],fields[19], \\\n",
    "                                     fields[20],fields[21],fields[22],fields[23],fields[24], \\\n",
    "                                     fields[25],fields[26],fields[27],fields[28],fields[29], \\\n",
    "                                     fields[30],fields[31],fields[32],fields[33],fields[34], \\\n",
    "                                     fields[35],fields[36],fields[37],fields[38],fields[39], \\\n",
    "                                     fields[40],fields[41],fields[42],fields[43],fields[44], \\\n",
    "                                     fields[45],fields[46],fields[47],fields[48],fields[49], \\\n",
    "                                     fields[50],fields[51],fields[52],fields[53],fields[54], \\\n",
    "                                     fields[55],fields[56],fields[57],fields[58],fields[59], \\\n",
    "                                     fields[60],fields[61],fields[62],fields[63],fields[64], \\\n",
    "                                     fields[65],fields[66],fields[67],fields[68],fields[69], \\\n",
    "                                     fields[70],fields[71],fields[72],fields[73],fields[74], \\\n",
    "                                     fields[75],fields[76],fields[77],fields[78],fields[79], \\\n",
    "                                     fields[80],fields[81],fields[82],fields[83]))\n",
    "        else:\n",
    "            conn.commit()\n",
    "            conn.execute(\"\"\"INSERT INTO globirefutes (sourceTaxonId, sourceTaxonIds, sourceTaxonName, sourceTaxonRank, \\\n",
    "                    sourceTaxonPathNames, sourceTaxonPathIds, sourceTaxonPathRankNames, sourceTaxonSpeciesName, \\\n",
    "                    sourceTaxonSpeciesId, sourceTaxonGenusName, sourceTaxonGenusId, sourceTaxonFamilyName, \\\n",
    "                    sourceTaxonFamilyId, sourceTaxonOrderName, sourceTaxonOrderId, sourceTaxonClassName, \\\n",
    "                    sourceTaxonClassId, sourceTaxonPhylumName, sourceTaxonPhylumId, sourceTaxonKingdomName, \\\n",
    "                    sourceTaxonKingdomId, sourceId, sourceOccurrenceId, sourceCatalogNumber, sourceBasisOfRecordId, \\\n",
    "                    sourceBasisOfRecordName, sourceLifeStageId, sourceLifeStageName, sourceBodyPartId, \\\n",
    "                    sourceBodyPartName, sourcePhysiologicalStateId, sourcePhysiologicalStateName, \\\n",
    "                    sourceSexId, sourceSexName, \\\n",
    "                    interactionTypeName, interactionTypeId, targetTaxonId, targetTaxonIds, targetTaxonName, \\\n",
    "                    targetTaxonRank, targetTaxonPathNames, targetTaxonPathIds, targetTaxonPathRankNames, \\\n",
    "                    targetTaxonSpeciesName, targetTaxonSpeciesId, targetTaxonGenusName, targetTaxonGenusId, \\\n",
    "                    targetTaxonFamilyName, targetTaxonFamilyId, targetTaxonOrderName, targetTaxonOrderId, \\\n",
    "                    targetTaxonClassName, targetTaxonClassId, targetTaxonPhylumName, targetTaxonPhylumId, \\\n",
    "                    targetTaxonKingdomName, targetTaxonKingdomId, targetId, targetOccurrenceId, targetCatalogNumber, \\\n",
    "                    targetBasisOfRecordId, targetBasisOfRecordName, targetLifeStageId, targetLifeStageName, \\\n",
    "                    targetBodyPartId, targetBodyPartName, targetPhysiologicalStateId, targetPhysiologicalStateName, \\\n",
    "                    targetSexId, targetSexName, \\\n",
    "                    decimalLatitude, decimalLongitude, localityId, localityName, eventDateUnixEpoch, argumentTypeId, \\\n",
    "                    referenceCitation, referenceDoi, referenceUrl, sourceCitation, sourceNamespace, \\\n",
    "                    sourceArchiveURI, sourceDOI, sourceLastSeenAtUnixEpoch) \\\n",
    "                    VALUES(?,?,?,?,?,?,?,?,?,?,?,?,?,?,?,?,?,?,?,?,?,?,?,?,?,?,?,?,?,?,?,?,?,?,?,?,?,?,?,?,?,?,?,?,?,?,?,?,?,?,?,?,?,?,?,?,?,?,?,?,?,?,?,?,?,?,?,?,?,?,?,?,?,?,?,?,?,?,?,?,?,?,?,?)\"\"\", \\\n",
    "                    (fields[0],fields[1],fields[2],fields[3],fields[4], \\\n",
    "                     fields[5],fields[6],fields[7],fields[8],fields[9], \\\n",
    "                     fields[10],fields[11],fields[12],fields[13],fields[14], \\\n",
    "                     fields[15],fields[16],fields[17],fields[18],fields[19], \\\n",
    "                     fields[20],fields[21],fields[22],fields[23],fields[24], \\\n",
    "                     fields[25],fields[26],fields[27],fields[28],fields[29], \\\n",
    "                     fields[30],fields[31],fields[32],fields[33],fields[34], \\\n",
    "                     fields[35],fields[36],fields[37],fields[38],fields[39], \\\n",
    "                     fields[40],fields[41],fields[42],fields[43],fields[44], \\\n",
    "                     fields[45],fields[46],fields[47],fields[48],fields[49], \\\n",
    "                     fields[50],fields[51],fields[52],fields[53],fields[54], \\\n",
    "                     fields[55],fields[56],fields[57],fields[58],fields[59], \\\n",
    "                     fields[60],fields[61],fields[62],fields[63],fields[64], \\\n",
    "                     fields[65],fields[66],fields[67],fields[68],fields[69], \\\n",
    "                     fields[70],fields[71],fields[72],fields[73],fields[74], \\\n",
    "                     fields[75],fields[76],fields[77],fields[78],fields[79], \\\n",
    "                     fields[80],fields[81],fields[82],fields[83]))"
   ]
  },
  {
   "cell_type": "code",
   "execution_count": null,
   "metadata": {},
   "outputs": [],
   "source": [
    "conn.commit()"
   ]
  },
  {
   "cell_type": "markdown",
   "metadata": {},
   "source": [
    "## Eliminate some useless interactions\n",
    "Although the refutes table may help to get rid of some useless and irrational interactions it is more efficient to delete them in bulk when it is easy to do so."
   ]
  },
  {
   "cell_type": "code",
   "execution_count": null,
   "metadata": {},
   "outputs": [],
   "source": [
    "#Get rid of circular references\n",
    "conn.execute('DELETE FROM globi WHERE sourceTaxonSpeciesName = targetTaxonSpeciesName')\n",
    "conn.commit()"
   ]
  },
  {
   "cell_type": "code",
   "execution_count": null,
   "metadata": {},
   "outputs": [],
   "source": [
    "# Remove irrational interations\n",
    "conn.execute('DELETE FROM globi WHERE sourceTaxonKingdomName = \"Plantae\" and interactionTypeName = \"visitsFlowerOf\"')\n",
    "conn.commit()    \n",
    "conn.execute('DELETE FROM globi WHERE sourceTaxonKingdomName = \"Plantae\" and interactionTypeName = \"visits\"')\n",
    "conn.commit()            \n",
    "conn.execute('DELETE FROM globi WHERE sourceTaxonKingdomName = \"Plantae\" and interactionTypeName = \"pollinates\"')\n",
    "conn.commit()"
   ]
  },
  {
   "cell_type": "markdown",
   "metadata": {},
   "source": [
    "## Build some indexes to make queries faster"
   ]
  },
  {
   "cell_type": "code",
   "execution_count": null,
   "metadata": {},
   "outputs": [],
   "source": [
    "#conn.execute('DROP INDEX sourceTaxonNameIndex')\n",
    "#conn.execute('DROP INDEX targetTaxonNameIndex')\n",
    "#conn.execute('DROP INDEX sourceAndInteractionTypeIndex')\n",
    "#conn.execute('DROP INDEX targetAndInteractionTypeIndex')\n",
    "#conn.execute('DROP INDEX sourceTaxonRankIndex')"
   ]
  },
  {
   "cell_type": "markdown",
   "metadata": {},
   "source": [
    "# Taxon indexes"
   ]
  },
  {
   "cell_type": "code",
   "execution_count": 5,
   "metadata": {},
   "outputs": [
    {
     "data": {
      "text/plain": [
       "<sqlite3.Cursor at 0x23821149030>"
      ]
     },
     "execution_count": 5,
     "metadata": {},
     "output_type": "execute_result"
    }
   ],
   "source": [
    "conn.execute('CREATE INDEX IF NOT EXISTS sourceTaxonNameIndex ON globi(sourceTaxonName)')"
   ]
  },
  {
   "cell_type": "code",
   "execution_count": 6,
   "metadata": {},
   "outputs": [
    {
     "data": {
      "text/plain": [
       "<sqlite3.Cursor at 0x23821108f10>"
      ]
     },
     "execution_count": 6,
     "metadata": {},
     "output_type": "execute_result"
    }
   ],
   "source": [
    "conn.execute('CREATE INDEX IF NOT EXISTS targetTaxonNameIndex ON globi(targetTaxonName)')"
   ]
  },
  {
   "cell_type": "code",
   "execution_count": 7,
   "metadata": {},
   "outputs": [
    {
     "data": {
      "text/plain": [
       "<sqlite3.Cursor at 0x23821108e30>"
      ]
     },
     "execution_count": 7,
     "metadata": {},
     "output_type": "execute_result"
    }
   ],
   "source": [
    "conn.execute('CREATE INDEX IF NOT EXISTS sourceAndInteractionTypeIndex ON globi(sourceTaxonName, interactionTypeName)')"
   ]
  },
  {
   "cell_type": "code",
   "execution_count": 8,
   "metadata": {},
   "outputs": [
    {
     "data": {
      "text/plain": [
       "<sqlite3.Cursor at 0x238211490a0>"
      ]
     },
     "execution_count": 8,
     "metadata": {},
     "output_type": "execute_result"
    }
   ],
   "source": [
    "conn.execute('CREATE INDEX IF NOT EXISTS targetAndInteractionTypeIndex ON globi(targetTaxonName, interactionTypeName)')"
   ]
  },
  {
   "cell_type": "code",
   "execution_count": 9,
   "metadata": {},
   "outputs": [
    {
     "data": {
      "text/plain": [
       "<sqlite3.Cursor at 0x238211491f0>"
      ]
     },
     "execution_count": 9,
     "metadata": {},
     "output_type": "execute_result"
    }
   ],
   "source": [
    "conn.execute('CREATE INDEX IF NOT EXISTS targetAndInteractionTypeRankIndex ON globi(targetTaxonName, interactionTypeName, targetTaxonRank, sourceTaxonRank)')"
   ]
  },
  {
   "cell_type": "code",
   "execution_count": 10,
   "metadata": {},
   "outputs": [
    {
     "data": {
      "text/plain": [
       "<sqlite3.Cursor at 0x23821149340>"
      ]
     },
     "execution_count": 10,
     "metadata": {},
     "output_type": "execute_result"
    }
   ],
   "source": [
    "conn.execute('CREATE INDEX IF NOT EXISTS sourceAndInteractionTypeRankIndex ON globi(sourceTaxonName, interactionTypeName, targetTaxonRank, sourceTaxonRank)')"
   ]
  },
  {
   "cell_type": "code",
   "execution_count": 11,
   "metadata": {},
   "outputs": [
    {
     "data": {
      "text/plain": [
       "<sqlite3.Cursor at 0x23821149490>"
      ]
     },
     "execution_count": 11,
     "metadata": {},
     "output_type": "execute_result"
    }
   ],
   "source": [
    "conn.execute('CREATE INDEX IF NOT EXISTS sourceTargetAndInteractionTypeRankIndex ON globi(targetTaxonName, sourceTaxonName, interactionTypeName, targetTaxonRank, sourceTaxonRank)')"
   ]
  },
  {
   "cell_type": "code",
   "execution_count": 12,
   "metadata": {},
   "outputs": [
    {
     "data": {
      "text/plain": [
       "<sqlite3.Cursor at 0x238211495e0>"
      ]
     },
     "execution_count": 12,
     "metadata": {},
     "output_type": "execute_result"
    }
   ],
   "source": [
    "conn.execute('CREATE INDEX IF NOT EXISTS sourceTaxonRankIndex ON globi(sourceTaxonRank)')"
   ]
  },
  {
   "cell_type": "code",
   "execution_count": 13,
   "metadata": {},
   "outputs": [
    {
     "data": {
      "text/plain": [
       "<sqlite3.Cursor at 0x23821149730>"
      ]
     },
     "execution_count": 13,
     "metadata": {},
     "output_type": "execute_result"
    }
   ],
   "source": [
    "conn.execute('CREATE INDEX IF NOT EXISTS targetTaxonRankIndex ON globi(targetTaxonName, targetTaxonRank, sourceTaxonRank)')"
   ]
  },
  {
   "cell_type": "code",
   "execution_count": 14,
   "metadata": {},
   "outputs": [
    {
     "data": {
      "text/plain": [
       "<sqlite3.Cursor at 0x23821149880>"
      ]
     },
     "execution_count": 14,
     "metadata": {},
     "output_type": "execute_result"
    }
   ],
   "source": [
    "conn.execute('CREATE INDEX IF NOT EXISTS sourceTaxonRankIndex ON globi(sourceTaxonName, sourceTaxonRank, targetTaxonRank)')"
   ]
  },
  {
   "cell_type": "code",
   "execution_count": 15,
   "metadata": {},
   "outputs": [
    {
     "data": {
      "text/plain": [
       "<sqlite3.Cursor at 0x238211499d0>"
      ]
     },
     "execution_count": 15,
     "metadata": {},
     "output_type": "execute_result"
    }
   ],
   "source": [
    "conn.execute('CREATE INDEX IF NOT EXISTS taxonRankIndex ON globi(sourceTaxonRank,targetTaxonRank)')"
   ]
  },
  {
   "cell_type": "markdown",
   "metadata": {},
   "source": [
    "# Species indexes"
   ]
  },
  {
   "cell_type": "code",
   "execution_count": 16,
   "metadata": {},
   "outputs": [
    {
     "data": {
      "text/plain": [
       "<sqlite3.Cursor at 0x23821149b20>"
      ]
     },
     "execution_count": 16,
     "metadata": {},
     "output_type": "execute_result"
    }
   ],
   "source": [
    "conn.execute('CREATE INDEX IF NOT EXISTS sourceSpAndInteractionTypeIndex ON globi(sourceTaxonSpeciesName, interactionTypeName)')"
   ]
  },
  {
   "cell_type": "code",
   "execution_count": 17,
   "metadata": {},
   "outputs": [
    {
     "data": {
      "text/plain": [
       "<sqlite3.Cursor at 0x23821149c70>"
      ]
     },
     "execution_count": 17,
     "metadata": {},
     "output_type": "execute_result"
    }
   ],
   "source": [
    "conn.execute('CREATE INDEX IF NOT EXISTS targetSpAndInteractionTypeIndex ON globi(targetTaxonSpeciesName, interactionTypeName)')"
   ]
  },
  {
   "cell_type": "code",
   "execution_count": 18,
   "metadata": {},
   "outputs": [
    {
     "data": {
      "text/plain": [
       "<sqlite3.Cursor at 0x23821149dc0>"
      ]
     },
     "execution_count": 18,
     "metadata": {},
     "output_type": "execute_result"
    }
   ],
   "source": [
    "conn.execute('CREATE INDEX IF NOT EXISTS sourceSpTaxonNameIndex ON globi(sourceTaxonSpeciesName)')"
   ]
  },
  {
   "cell_type": "code",
   "execution_count": 19,
   "metadata": {},
   "outputs": [
    {
     "data": {
      "text/plain": [
       "<sqlite3.Cursor at 0x23821168030>"
      ]
     },
     "execution_count": 19,
     "metadata": {},
     "output_type": "execute_result"
    }
   ],
   "source": [
    "conn.execute('CREATE INDEX IF NOT EXISTS targetSpTaxonNameIndex ON globi(targetTaxonSpeciesName)')"
   ]
  },
  {
   "cell_type": "code",
   "execution_count": 20,
   "metadata": {},
   "outputs": [
    {
     "data": {
      "text/plain": [
       "<sqlite3.Cursor at 0x23821168180>"
      ]
     },
     "execution_count": 20,
     "metadata": {},
     "output_type": "execute_result"
    }
   ],
   "source": [
    "conn.execute('CREATE INDEX IF NOT EXISTS sourceTargetSpTaxonNameIndex ON globi(sourceTaxonSpeciesName,targetTaxonSpeciesName)')"
   ]
  },
  {
   "cell_type": "markdown",
   "metadata": {},
   "source": [
    "## refutes indexes"
   ]
  },
  {
   "cell_type": "code",
   "execution_count": 21,
   "metadata": {},
   "outputs": [
    {
     "data": {
      "text/plain": [
       "<sqlite3.Cursor at 0x238211681f0>"
      ]
     },
     "execution_count": 21,
     "metadata": {},
     "output_type": "execute_result"
    }
   ],
   "source": [
    "conn.execute('CREATE INDEX IF NOT EXISTS sourceSpAndInteractionTypeIndex ON globirefutes(sourceTaxonSpeciesName, interactionTypeName)')"
   ]
  },
  {
   "cell_type": "code",
   "execution_count": 22,
   "metadata": {},
   "outputs": [
    {
     "data": {
      "text/plain": [
       "<sqlite3.Cursor at 0x23821168340>"
      ]
     },
     "execution_count": 22,
     "metadata": {},
     "output_type": "execute_result"
    }
   ],
   "source": [
    "conn.execute('CREATE INDEX IF NOT EXISTS targetSpAndInteractionTypeIndex ON globirefutes(targetTaxonSpeciesName, interactionTypeName)')"
   ]
  },
  {
   "cell_type": "code",
   "execution_count": 23,
   "metadata": {},
   "outputs": [
    {
     "data": {
      "text/plain": [
       "<sqlite3.Cursor at 0x23821168490>"
      ]
     },
     "execution_count": 23,
     "metadata": {},
     "output_type": "execute_result"
    }
   ],
   "source": [
    "conn.execute('CREATE INDEX IF NOT EXISTS sourceSpTaxonNameIndex ON globirefutes(sourceTaxonSpeciesName)')"
   ]
  },
  {
   "cell_type": "code",
   "execution_count": 24,
   "metadata": {},
   "outputs": [
    {
     "data": {
      "text/plain": [
       "<sqlite3.Cursor at 0x238211686c0>"
      ]
     },
     "execution_count": 24,
     "metadata": {},
     "output_type": "execute_result"
    }
   ],
   "source": [
    "conn.execute('CREATE INDEX IF NOT EXISTS targetSpTaxonNameIndex ON globirefutes(targetTaxonSpeciesName)')"
   ]
  },
  {
   "cell_type": "code",
   "execution_count": 25,
   "metadata": {},
   "outputs": [
    {
     "data": {
      "text/plain": [
       "<sqlite3.Cursor at 0x23821168730>"
      ]
     },
     "execution_count": 25,
     "metadata": {},
     "output_type": "execute_result"
    }
   ],
   "source": [
    "conn.execute('CREATE INDEX IF NOT EXISTS sourceTargetSpTaxonNameIndex ON globirefutes(sourceTaxonSpeciesName,targetTaxonSpeciesName)')"
   ]
  },
  {
   "cell_type": "code",
   "execution_count": 26,
   "metadata": {},
   "outputs": [
    {
     "data": {
      "text/plain": [
       "<sqlite3.Cursor at 0x23821168880>"
      ]
     },
     "execution_count": 26,
     "metadata": {},
     "output_type": "execute_result"
    }
   ],
   "source": [
    "conn.execute('CREATE INDEX IF NOT EXISTS sourceTargetSpTaxonNameIndex ON globirefutes(sourceTaxonSpeciesName,targetTaxonSpeciesName)')"
   ]
  },
  {
   "cell_type": "code",
   "execution_count": 27,
   "metadata": {},
   "outputs": [
    {
     "data": {
      "text/plain": [
       "<sqlite3.Cursor at 0x238211689d0>"
      ]
     },
     "execution_count": 27,
     "metadata": {},
     "output_type": "execute_result"
    }
   ],
   "source": [
    "conn.execute('CREATE INDEX IF NOT EXISTS sourceTargetSpTaxonNameIndex ON globirefutes(sourceTaxonSpeciesName,targetTaxonSpeciesName,interactionTypeName)')"
   ]
  },
  {
   "cell_type": "markdown",
   "metadata": {},
   "source": [
    "## Run a quick check to make sure the indexes work as expected."
   ]
  },
  {
   "cell_type": "code",
   "execution_count": 28,
   "metadata": {},
   "outputs": [
    {
     "data": {
      "text/html": [
       "<div>\n",
       "<style scoped>\n",
       "    .dataframe tbody tr th:only-of-type {\n",
       "        vertical-align: middle;\n",
       "    }\n",
       "\n",
       "    .dataframe tbody tr th {\n",
       "        vertical-align: top;\n",
       "    }\n",
       "\n",
       "    .dataframe thead th {\n",
       "        text-align: right;\n",
       "    }\n",
       "</style>\n",
       "<table border=\"1\" class=\"dataframe\">\n",
       "  <thead>\n",
       "    <tr style=\"text-align: right;\">\n",
       "      <th></th>\n",
       "      <th>id</th>\n",
       "      <th>parent</th>\n",
       "      <th>notused</th>\n",
       "      <th>detail</th>\n",
       "    </tr>\n",
       "  </thead>\n",
       "  <tbody>\n",
       "    <tr>\n",
       "      <th>0</th>\n",
       "      <td>2</td>\n",
       "      <td>0</td>\n",
       "      <td>0</td>\n",
       "      <td>SCAN TABLE globi USING COVERING INDEX sourceAn...</td>\n",
       "    </tr>\n",
       "  </tbody>\n",
       "</table>\n",
       "</div>"
      ],
      "text/plain": [
       "   id  parent  notused                                             detail\n",
       "0   2       0        0  SCAN TABLE globi USING COVERING INDEX sourceAn..."
      ]
     },
     "execution_count": 28,
     "metadata": {},
     "output_type": "execute_result"
    }
   ],
   "source": [
    "pd.read_sql_query('EXPLAIN QUERY PLAN SELECT sourceTaxonName FROM globi WHERE interactionTypeName = \"visitsFlowersOf\"', conn)"
   ]
  },
  {
   "cell_type": "markdown",
   "metadata": {},
   "source": [
    "## Removing any interactions that have been refuted"
   ]
  },
  {
   "cell_type": "code",
   "execution_count": null,
   "metadata": {},
   "outputs": [],
   "source": [
    "# This approach is too slow!\n",
    "#conn.execute(' \\\n",
    "#    DELETE FROM globi \\\n",
    "#    WHERE EXISTS \\\n",
    "#      ( SELECT *  \\\n",
    "#        FROM globirefutes \\\n",
    "#        WHERE globi.targetTaxonSpeciesName = globirefutes.targetTaxonSpeciesName \\\n",
    "#            and globi.sourceTaxonSpeciesName = globirefutes.sourceTaxonSpeciesName \\\n",
    "#            and globi.interactionTypeName = globirefutes.interactionTypeName)')\n",
    "#conn.commit()  \n",
    "             \n",
    "             "
   ]
  },
  {
   "cell_type": "code",
   "execution_count": 13,
   "metadata": {},
   "outputs": [],
   "source": [
    "conn.execute(' \\\n",
    "    ALTER TABLE globi \\\n",
    "        ADD combo;')\n",
    "conn.commit()  "
   ]
  },
  {
   "cell_type": "code",
   "execution_count": 11,
   "metadata": {},
   "outputs": [
    {
     "ename": "OperationalError",
     "evalue": "near \"UPDATE\": syntax error",
     "output_type": "error",
     "traceback": [
      "\u001b[1;31m---------------------------------------------------------------------------\u001b[0m",
      "\u001b[1;31mOperationalError\u001b[0m                          Traceback (most recent call last)",
      "\u001b[1;32m<ipython-input-11-e5c6d0a9835d>\u001b[0m in \u001b[0;36m<module>\u001b[1;34m\u001b[0m\n\u001b[0;32m      1\u001b[0m conn.execute(' \\\n\u001b[0;32m      2\u001b[0m     \u001b[0mALTER\u001b[0m \u001b[0mTABLE\u001b[0m \u001b[0mglobirefutes\u001b[0m\u001b[0;31m \u001b[0m\u001b[0;31m\\\u001b[0m\u001b[1;33m\u001b[0m\u001b[1;33m\u001b[0m\u001b[0m\n\u001b[1;32m----> 3\u001b[1;33m         UPDATE combo (globirefutes.targetTaxonSpeciesName || globirefutes.sourceTaxonSpeciesName || globirefutes.interactionTypeName);')\n\u001b[0m\u001b[0;32m      4\u001b[0m \u001b[0mconn\u001b[0m\u001b[1;33m.\u001b[0m\u001b[0mcommit\u001b[0m\u001b[1;33m(\u001b[0m\u001b[1;33m)\u001b[0m\u001b[1;33m\u001b[0m\u001b[1;33m\u001b[0m\u001b[0m\n",
      "\u001b[1;31mOperationalError\u001b[0m: near \"UPDATE\": syntax error"
     ]
    }
   ],
   "source": [
    "conn.execute(' \\\n",
    "    ALTER TABLE globirefutes \\\n",
    "        Add combo;')\n",
    "conn.commit()"
   ]
  },
  {
   "cell_type": "code",
   "execution_count": 12,
   "metadata": {},
   "outputs": [],
   "source": [
    "conn.execute(' \\\n",
    "    UPDATE globirefutes SET combo = globirefutes.targetTaxonSpeciesName || globirefutes.sourceTaxonSpeciesName || globirefutes.interactionTypeName;')\n",
    "conn.commit()"
   ]
  },
  {
   "cell_type": "code",
   "execution_count": 14,
   "metadata": {},
   "outputs": [],
   "source": [
    "conn.execute(' \\\n",
    "    UPDATE globi SET combo = globi.targetTaxonSpeciesName || globi.sourceTaxonSpeciesName || globi.interactionTypeName;')\n",
    "conn.commit()"
   ]
  },
  {
   "cell_type": "code",
   "execution_count": 15,
   "metadata": {},
   "outputs": [
    {
     "data": {
      "text/plain": [
       "<sqlite3.Cursor at 0x2ac3734ce30>"
      ]
     },
     "execution_count": 15,
     "metadata": {},
     "output_type": "execute_result"
    }
   ],
   "source": [
    "conn.execute('CREATE INDEX IF NOT EXISTS globirefutesComboIndex ON globirefutes(combo)')"
   ]
  },
  {
   "cell_type": "code",
   "execution_count": 16,
   "metadata": {},
   "outputs": [
    {
     "data": {
      "text/plain": [
       "<sqlite3.Cursor at 0x2ac3734cce0>"
      ]
     },
     "execution_count": 16,
     "metadata": {},
     "output_type": "execute_result"
    }
   ],
   "source": [
    "conn.execute('CREATE INDEX IF NOT EXISTS globiComboIndex ON globi(combo)')"
   ]
  },
  {
   "cell_type": "code",
   "execution_count": 4,
   "metadata": {},
   "outputs": [],
   "source": [
    "conn.execute(' \\\n",
    "    DELETE FROM globi \\\n",
    "    WHERE EXISTS \\\n",
    "      ( SELECT *  \\\n",
    "        FROM globirefutes \\\n",
    "        WHERE globirefutes.combo = globi.combo)')\n",
    "conn.commit() "
   ]
  },
  {
   "cell_type": "markdown",
   "metadata": {},
   "source": [
    "## Check if something is in the database"
   ]
  },
  {
   "cell_type": "code",
   "execution_count": 5,
   "metadata": {
    "scrolled": true
   },
   "outputs": [
    {
     "data": {
      "text/html": [
       "<div>\n",
       "<style scoped>\n",
       "    .dataframe tbody tr th:only-of-type {\n",
       "        vertical-align: middle;\n",
       "    }\n",
       "\n",
       "    .dataframe tbody tr th {\n",
       "        vertical-align: top;\n",
       "    }\n",
       "\n",
       "    .dataframe thead th {\n",
       "        text-align: right;\n",
       "    }\n",
       "</style>\n",
       "<table border=\"1\" class=\"dataframe\">\n",
       "  <thead>\n",
       "    <tr style=\"text-align: right;\">\n",
       "      <th></th>\n",
       "      <th>sourceTaxonId</th>\n",
       "      <th>sourceTaxonIds</th>\n",
       "      <th>sourceTaxonName</th>\n",
       "      <th>sourceTaxonRank</th>\n",
       "      <th>sourceTaxonPathNames</th>\n",
       "      <th>sourceTaxonPathIds</th>\n",
       "      <th>sourceTaxonPathRankNames</th>\n",
       "      <th>sourceTaxonSpeciesName</th>\n",
       "      <th>sourceTaxonSpeciesId</th>\n",
       "      <th>sourceTaxonGenusName</th>\n",
       "      <th>...</th>\n",
       "      <th>argumentTypeId</th>\n",
       "      <th>referenceCitation</th>\n",
       "      <th>referenceDoi</th>\n",
       "      <th>referenceUrl</th>\n",
       "      <th>sourceCitation</th>\n",
       "      <th>sourceNamespace</th>\n",
       "      <th>sourceArchiveURI</th>\n",
       "      <th>sourceDOI</th>\n",
       "      <th>sourceLastSeenAtUnixEpoch</th>\n",
       "      <th>combo</th>\n",
       "    </tr>\n",
       "  </thead>\n",
       "  <tbody>\n",
       "    <tr>\n",
       "      <th>0</th>\n",
       "      <td>WORMS:368215</td>\n",
       "      <td>FBC:SLB:SpecCode:26699 | GBIF:2224469 | INAT_T...</td>\n",
       "      <td>Paguristes cadenati</td>\n",
       "      <td>species</td>\n",
       "      <td>Biota | Animalia | Arthropoda | Crustacea | Mu...</td>\n",
       "      <td>WORMS:1 | WORMS:2 | WORMS:1065 | WORMS:1066 | ...</td>\n",
       "      <td>| kingdom | phylum | subphylum | superclass | ...</td>\n",
       "      <td>Paguristes cadenati</td>\n",
       "      <td>WORMS:368215</td>\n",
       "      <td>Paguristes</td>\n",
       "      <td>...</td>\n",
       "      <td>https://en.wiktionary.org/wiki/support</td>\n",
       "      <td>Cervantes-Campero G and Simões N (2020). Use o...</td>\n",
       "      <td></td>\n",
       "      <td></td>\n",
       "      <td>Cervantes-Campero G and Simões N (2020). Use o...</td>\n",
       "      <td>BDMYRepository/Paguroidea-Mollusca-Interactions</td>\n",
       "      <td>https://github.com/BDMYRepository/Paguroidea-M...</td>\n",
       "      <td></td>\n",
       "      <td>2020-12-01T23:20:16.940Z\\n</td>\n",
       "      <td>Cerithium litteratumPaguristes cadenaticommens...</td>\n",
       "    </tr>\n",
       "    <tr>\n",
       "      <th>1</th>\n",
       "      <td>WORMS:367457</td>\n",
       "      <td>FBC:SLB:SpecCode:26121 | GBIF:2224433 | IRMNG:...</td>\n",
       "      <td>Calcinus tibicen</td>\n",
       "      <td>species</td>\n",
       "      <td>Biota | Animalia | Arthropoda | Crustacea | Mu...</td>\n",
       "      <td>WORMS:1 | WORMS:2 | WORMS:1065 | WORMS:1066 | ...</td>\n",
       "      <td>| kingdom | phylum | subphylum | superclass | ...</td>\n",
       "      <td>Calcinus tibicen</td>\n",
       "      <td>WORMS:367457</td>\n",
       "      <td>Calcinus</td>\n",
       "      <td>...</td>\n",
       "      <td>https://en.wiktionary.org/wiki/support</td>\n",
       "      <td>Cervantes-Campero G and Simões N (2020). Use o...</td>\n",
       "      <td></td>\n",
       "      <td></td>\n",
       "      <td>Cervantes-Campero G and Simões N (2020). Use o...</td>\n",
       "      <td>BDMYRepository/Paguroidea-Mollusca-Interactions</td>\n",
       "      <td>https://github.com/BDMYRepository/Paguroidea-M...</td>\n",
       "      <td></td>\n",
       "      <td>2020-12-01T23:20:16.940Z\\n</td>\n",
       "      <td>Lithopoma americanumCalcinus tibicencommensali...</td>\n",
       "    </tr>\n",
       "    <tr>\n",
       "      <th>2</th>\n",
       "      <td>GBIF:2224486</td>\n",
       "      <td>GBIF:2224486 | IRMNG:11127576 | ITIS:98168 | N...</td>\n",
       "      <td>Paguristes puncticeps</td>\n",
       "      <td>species</td>\n",
       "      <td>Animalia | Arthropoda | Malacostraca | Decapod...</td>\n",
       "      <td>GBIF:1 | GBIF:54 | GBIF:229 | GBIF:637 | GBIF:...</td>\n",
       "      <td>kingdom | phylum | class | order | family | ge...</td>\n",
       "      <td>Paguristes puncticeps</td>\n",
       "      <td>GBIF:2224486</td>\n",
       "      <td>Paguristes</td>\n",
       "      <td>...</td>\n",
       "      <td>https://en.wiktionary.org/wiki/support</td>\n",
       "      <td>Cervantes-Campero G and Simões N (2020). Use o...</td>\n",
       "      <td></td>\n",
       "      <td></td>\n",
       "      <td>Cervantes-Campero G and Simões N (2020). Use o...</td>\n",
       "      <td>BDMYRepository/Paguroidea-Mollusca-Interactions</td>\n",
       "      <td>https://github.com/BDMYRepository/Paguroidea-M...</td>\n",
       "      <td></td>\n",
       "      <td>2020-12-01T23:20:16.940Z\\n</td>\n",
       "      <td>Hemipolygona cariniferaPaguristes puncticepsco...</td>\n",
       "    </tr>\n",
       "    <tr>\n",
       "      <th>3</th>\n",
       "      <td>WORMS:368215</td>\n",
       "      <td>FBC:SLB:SpecCode:26699 | GBIF:2224469 | INAT_T...</td>\n",
       "      <td>Paguristes cadenati</td>\n",
       "      <td>species</td>\n",
       "      <td>Biota | Animalia | Arthropoda | Crustacea | Mu...</td>\n",
       "      <td>WORMS:1 | WORMS:2 | WORMS:1065 | WORMS:1066 | ...</td>\n",
       "      <td>| kingdom | phylum | subphylum | superclass | ...</td>\n",
       "      <td>Paguristes cadenati</td>\n",
       "      <td>WORMS:368215</td>\n",
       "      <td>Paguristes</td>\n",
       "      <td>...</td>\n",
       "      <td>https://en.wiktionary.org/wiki/support</td>\n",
       "      <td>Cervantes-Campero G and Simões N (2020). Use o...</td>\n",
       "      <td></td>\n",
       "      <td></td>\n",
       "      <td>Cervantes-Campero G and Simões N (2020). Use o...</td>\n",
       "      <td>BDMYRepository/Paguroidea-Mollusca-Interactions</td>\n",
       "      <td>https://github.com/BDMYRepository/Paguroidea-M...</td>\n",
       "      <td></td>\n",
       "      <td>2020-12-01T23:20:16.940Z\\n</td>\n",
       "      <td>Polinices lacteusPaguristes cadenaticommensali...</td>\n",
       "    </tr>\n",
       "    <tr>\n",
       "      <th>4</th>\n",
       "      <td>GBIF:2224190</td>\n",
       "      <td>GBIF:2224190 | IRMNG:10878260 | ITIS:97826 | N...</td>\n",
       "      <td>Pagurus provenzanoi</td>\n",
       "      <td>species</td>\n",
       "      <td>Animalia | Arthropoda | Malacostraca | Decapod...</td>\n",
       "      <td>GBIF:1 | GBIF:54 | GBIF:229 | GBIF:637 | GBIF:...</td>\n",
       "      <td>kingdom | phylum | class | order | family | ge...</td>\n",
       "      <td>Pagurus provenzanoi</td>\n",
       "      <td>GBIF:2224190</td>\n",
       "      <td>Pagurus</td>\n",
       "      <td>...</td>\n",
       "      <td>https://en.wiktionary.org/wiki/support</td>\n",
       "      <td>Cervantes-Campero G and Simões N (2020). Use o...</td>\n",
       "      <td></td>\n",
       "      <td></td>\n",
       "      <td>Cervantes-Campero G and Simões N (2020). Use o...</td>\n",
       "      <td>BDMYRepository/Paguroidea-Mollusca-Interactions</td>\n",
       "      <td>https://github.com/BDMYRepository/Paguroidea-M...</td>\n",
       "      <td></td>\n",
       "      <td>2020-12-01T23:20:16.940Z\\n</td>\n",
       "      <td>Polinices lacteusPagurus provenzanoicommensali...</td>\n",
       "    </tr>\n",
       "  </tbody>\n",
       "</table>\n",
       "<p>5 rows × 85 columns</p>\n",
       "</div>"
      ],
      "text/plain": [
       "  sourceTaxonId                                     sourceTaxonIds  \\\n",
       "0  WORMS:368215  FBC:SLB:SpecCode:26699 | GBIF:2224469 | INAT_T...   \n",
       "1  WORMS:367457  FBC:SLB:SpecCode:26121 | GBIF:2224433 | IRMNG:...   \n",
       "2  GBIF:2224486  GBIF:2224486 | IRMNG:11127576 | ITIS:98168 | N...   \n",
       "3  WORMS:368215  FBC:SLB:SpecCode:26699 | GBIF:2224469 | INAT_T...   \n",
       "4  GBIF:2224190  GBIF:2224190 | IRMNG:10878260 | ITIS:97826 | N...   \n",
       "\n",
       "         sourceTaxonName sourceTaxonRank  \\\n",
       "0    Paguristes cadenati         species   \n",
       "1       Calcinus tibicen         species   \n",
       "2  Paguristes puncticeps         species   \n",
       "3    Paguristes cadenati         species   \n",
       "4    Pagurus provenzanoi         species   \n",
       "\n",
       "                                sourceTaxonPathNames  \\\n",
       "0  Biota | Animalia | Arthropoda | Crustacea | Mu...   \n",
       "1  Biota | Animalia | Arthropoda | Crustacea | Mu...   \n",
       "2  Animalia | Arthropoda | Malacostraca | Decapod...   \n",
       "3  Biota | Animalia | Arthropoda | Crustacea | Mu...   \n",
       "4  Animalia | Arthropoda | Malacostraca | Decapod...   \n",
       "\n",
       "                                  sourceTaxonPathIds  \\\n",
       "0  WORMS:1 | WORMS:2 | WORMS:1065 | WORMS:1066 | ...   \n",
       "1  WORMS:1 | WORMS:2 | WORMS:1065 | WORMS:1066 | ...   \n",
       "2  GBIF:1 | GBIF:54 | GBIF:229 | GBIF:637 | GBIF:...   \n",
       "3  WORMS:1 | WORMS:2 | WORMS:1065 | WORMS:1066 | ...   \n",
       "4  GBIF:1 | GBIF:54 | GBIF:229 | GBIF:637 | GBIF:...   \n",
       "\n",
       "                            sourceTaxonPathRankNames sourceTaxonSpeciesName  \\\n",
       "0  | kingdom | phylum | subphylum | superclass | ...    Paguristes cadenati   \n",
       "1  | kingdom | phylum | subphylum | superclass | ...       Calcinus tibicen   \n",
       "2  kingdom | phylum | class | order | family | ge...  Paguristes puncticeps   \n",
       "3  | kingdom | phylum | subphylum | superclass | ...    Paguristes cadenati   \n",
       "4  kingdom | phylum | class | order | family | ge...    Pagurus provenzanoi   \n",
       "\n",
       "  sourceTaxonSpeciesId sourceTaxonGenusName  ...  \\\n",
       "0         WORMS:368215           Paguristes  ...   \n",
       "1         WORMS:367457             Calcinus  ...   \n",
       "2         GBIF:2224486           Paguristes  ...   \n",
       "3         WORMS:368215           Paguristes  ...   \n",
       "4         GBIF:2224190              Pagurus  ...   \n",
       "\n",
       "                           argumentTypeId  \\\n",
       "0  https://en.wiktionary.org/wiki/support   \n",
       "1  https://en.wiktionary.org/wiki/support   \n",
       "2  https://en.wiktionary.org/wiki/support   \n",
       "3  https://en.wiktionary.org/wiki/support   \n",
       "4  https://en.wiktionary.org/wiki/support   \n",
       "\n",
       "                                   referenceCitation referenceDoi  \\\n",
       "0  Cervantes-Campero G and Simões N (2020). Use o...                \n",
       "1  Cervantes-Campero G and Simões N (2020). Use o...                \n",
       "2  Cervantes-Campero G and Simões N (2020). Use o...                \n",
       "3  Cervantes-Campero G and Simões N (2020). Use o...                \n",
       "4  Cervantes-Campero G and Simões N (2020). Use o...                \n",
       "\n",
       "  referenceUrl                                     sourceCitation  \\\n",
       "0               Cervantes-Campero G and Simões N (2020). Use o...   \n",
       "1               Cervantes-Campero G and Simões N (2020). Use o...   \n",
       "2               Cervantes-Campero G and Simões N (2020). Use o...   \n",
       "3               Cervantes-Campero G and Simões N (2020). Use o...   \n",
       "4               Cervantes-Campero G and Simões N (2020). Use o...   \n",
       "\n",
       "                                   sourceNamespace  \\\n",
       "0  BDMYRepository/Paguroidea-Mollusca-Interactions   \n",
       "1  BDMYRepository/Paguroidea-Mollusca-Interactions   \n",
       "2  BDMYRepository/Paguroidea-Mollusca-Interactions   \n",
       "3  BDMYRepository/Paguroidea-Mollusca-Interactions   \n",
       "4  BDMYRepository/Paguroidea-Mollusca-Interactions   \n",
       "\n",
       "                                    sourceArchiveURI sourceDOI  \\\n",
       "0  https://github.com/BDMYRepository/Paguroidea-M...             \n",
       "1  https://github.com/BDMYRepository/Paguroidea-M...             \n",
       "2  https://github.com/BDMYRepository/Paguroidea-M...             \n",
       "3  https://github.com/BDMYRepository/Paguroidea-M...             \n",
       "4  https://github.com/BDMYRepository/Paguroidea-M...             \n",
       "\n",
       "    sourceLastSeenAtUnixEpoch  \\\n",
       "0  2020-12-01T23:20:16.940Z\\n   \n",
       "1  2020-12-01T23:20:16.940Z\\n   \n",
       "2  2020-12-01T23:20:16.940Z\\n   \n",
       "3  2020-12-01T23:20:16.940Z\\n   \n",
       "4  2020-12-01T23:20:16.940Z\\n   \n",
       "\n",
       "                                               combo  \n",
       "0  Cerithium litteratumPaguristes cadenaticommens...  \n",
       "1  Lithopoma americanumCalcinus tibicencommensali...  \n",
       "2  Hemipolygona cariniferaPaguristes puncticepsco...  \n",
       "3  Polinices lacteusPaguristes cadenaticommensali...  \n",
       "4  Polinices lacteusPagurus provenzanoicommensali...  \n",
       "\n",
       "[5 rows x 85 columns]"
      ]
     },
     "execution_count": 5,
     "metadata": {},
     "output_type": "execute_result"
    }
   ],
   "source": [
    "#dups = pd.read_sql_query('SELECT sourceTaxonRank FROM globi GROUP BY sourceTaxonRank', conn)\n",
    "select = pd.read_sql_query('SELECT * FROM globi LIMIT 5', conn)\n",
    "select"
   ]
  },
  {
   "cell_type": "code",
   "execution_count": 6,
   "metadata": {},
   "outputs": [],
   "source": [
    "select = pd.read_sql_query('SELECT sourceTaxonName from globi where targetTaxonName = \"Prunus serotina\"', conn)"
   ]
  },
  {
   "cell_type": "code",
   "execution_count": 7,
   "metadata": {},
   "outputs": [
    {
     "data": {
      "text/html": [
       "<div>\n",
       "<style scoped>\n",
       "    .dataframe tbody tr th:only-of-type {\n",
       "        vertical-align: middle;\n",
       "    }\n",
       "\n",
       "    .dataframe tbody tr th {\n",
       "        vertical-align: top;\n",
       "    }\n",
       "\n",
       "    .dataframe thead th {\n",
       "        text-align: right;\n",
       "    }\n",
       "</style>\n",
       "<table border=\"1\" class=\"dataframe\">\n",
       "  <thead>\n",
       "    <tr style=\"text-align: right;\">\n",
       "      <th></th>\n",
       "      <th>sourceTaxonName</th>\n",
       "    </tr>\n",
       "  </thead>\n",
       "  <tbody>\n",
       "    <tr>\n",
       "      <th>0</th>\n",
       "      <td>Acari</td>\n",
       "    </tr>\n",
       "    <tr>\n",
       "      <th>1</th>\n",
       "      <td>Acari</td>\n",
       "    </tr>\n",
       "    <tr>\n",
       "      <th>2</th>\n",
       "      <td>Acari</td>\n",
       "    </tr>\n",
       "    <tr>\n",
       "      <th>3</th>\n",
       "      <td>Acari</td>\n",
       "    </tr>\n",
       "    <tr>\n",
       "      <th>4</th>\n",
       "      <td>Acari</td>\n",
       "    </tr>\n",
       "    <tr>\n",
       "      <th>5</th>\n",
       "      <td>Acari</td>\n",
       "    </tr>\n",
       "    <tr>\n",
       "      <th>6</th>\n",
       "      <td>Acari</td>\n",
       "    </tr>\n",
       "    <tr>\n",
       "      <th>7</th>\n",
       "      <td>Acari</td>\n",
       "    </tr>\n",
       "    <tr>\n",
       "      <th>8</th>\n",
       "      <td>Acari</td>\n",
       "    </tr>\n",
       "    <tr>\n",
       "      <th>9</th>\n",
       "      <td>Acari</td>\n",
       "    </tr>\n",
       "    <tr>\n",
       "      <th>10</th>\n",
       "      <td>Acari</td>\n",
       "    </tr>\n",
       "    <tr>\n",
       "      <th>11</th>\n",
       "      <td>Acari</td>\n",
       "    </tr>\n",
       "    <tr>\n",
       "      <th>12</th>\n",
       "      <td>Acari</td>\n",
       "    </tr>\n",
       "    <tr>\n",
       "      <th>13</th>\n",
       "      <td>Acari</td>\n",
       "    </tr>\n",
       "    <tr>\n",
       "      <th>14</th>\n",
       "      <td>Acari</td>\n",
       "    </tr>\n",
       "    <tr>\n",
       "      <th>15</th>\n",
       "      <td>Acari</td>\n",
       "    </tr>\n",
       "    <tr>\n",
       "      <th>16</th>\n",
       "      <td>Acari</td>\n",
       "    </tr>\n",
       "    <tr>\n",
       "      <th>17</th>\n",
       "      <td>Acari</td>\n",
       "    </tr>\n",
       "    <tr>\n",
       "      <th>18</th>\n",
       "      <td>Acari</td>\n",
       "    </tr>\n",
       "    <tr>\n",
       "      <th>19</th>\n",
       "      <td>Acari</td>\n",
       "    </tr>\n",
       "    <tr>\n",
       "      <th>20</th>\n",
       "      <td>Acari</td>\n",
       "    </tr>\n",
       "    <tr>\n",
       "      <th>21</th>\n",
       "      <td>Acari</td>\n",
       "    </tr>\n",
       "    <tr>\n",
       "      <th>22</th>\n",
       "      <td>Acari</td>\n",
       "    </tr>\n",
       "    <tr>\n",
       "      <th>23</th>\n",
       "      <td>Acari</td>\n",
       "    </tr>\n",
       "    <tr>\n",
       "      <th>24</th>\n",
       "      <td>Acari</td>\n",
       "    </tr>\n",
       "    <tr>\n",
       "      <th>25</th>\n",
       "      <td>Acari</td>\n",
       "    </tr>\n",
       "    <tr>\n",
       "      <th>26</th>\n",
       "      <td>Acari</td>\n",
       "    </tr>\n",
       "    <tr>\n",
       "      <th>27</th>\n",
       "      <td>Acari</td>\n",
       "    </tr>\n",
       "    <tr>\n",
       "      <th>28</th>\n",
       "      <td>Acari</td>\n",
       "    </tr>\n",
       "    <tr>\n",
       "      <th>29</th>\n",
       "      <td>Acari</td>\n",
       "    </tr>\n",
       "    <tr>\n",
       "      <th>...</th>\n",
       "      <td>...</td>\n",
       "    </tr>\n",
       "    <tr>\n",
       "      <th>3945</th>\n",
       "      <td>Vireo olivaceus</td>\n",
       "    </tr>\n",
       "    <tr>\n",
       "      <th>3946</th>\n",
       "      <td>Vireo olivaceus</td>\n",
       "    </tr>\n",
       "    <tr>\n",
       "      <th>3947</th>\n",
       "      <td>Vireo olivaceus</td>\n",
       "    </tr>\n",
       "    <tr>\n",
       "      <th>3948</th>\n",
       "      <td>Vireo olivaceus</td>\n",
       "    </tr>\n",
       "    <tr>\n",
       "      <th>3949</th>\n",
       "      <td>Vireo olivaceus</td>\n",
       "    </tr>\n",
       "    <tr>\n",
       "      <th>3950</th>\n",
       "      <td>Vireo philadelphicus</td>\n",
       "    </tr>\n",
       "    <tr>\n",
       "      <th>3951</th>\n",
       "      <td>Vireo philadelphicus</td>\n",
       "    </tr>\n",
       "    <tr>\n",
       "      <th>3952</th>\n",
       "      <td>Volutella nectriodes</td>\n",
       "    </tr>\n",
       "    <tr>\n",
       "      <th>3953</th>\n",
       "      <td>Volutella nectrioides</td>\n",
       "    </tr>\n",
       "    <tr>\n",
       "      <th>3954</th>\n",
       "      <td>Volutella nectrioides</td>\n",
       "    </tr>\n",
       "    <tr>\n",
       "      <th>3955</th>\n",
       "      <td>Volutella nectrioides</td>\n",
       "    </tr>\n",
       "    <tr>\n",
       "      <th>3956</th>\n",
       "      <td>Volutella nectrioides</td>\n",
       "    </tr>\n",
       "    <tr>\n",
       "      <th>3957</th>\n",
       "      <td>Volutella nectrioides</td>\n",
       "    </tr>\n",
       "    <tr>\n",
       "      <th>3958</th>\n",
       "      <td>Volutella nectrioides</td>\n",
       "    </tr>\n",
       "    <tr>\n",
       "      <th>3959</th>\n",
       "      <td>Volutellonectria consors</td>\n",
       "    </tr>\n",
       "    <tr>\n",
       "      <th>3960</th>\n",
       "      <td>Vulpes vulpes</td>\n",
       "    </tr>\n",
       "    <tr>\n",
       "      <th>3961</th>\n",
       "      <td>Vulpes vulpes</td>\n",
       "    </tr>\n",
       "    <tr>\n",
       "      <th>3962</th>\n",
       "      <td>Vulpes vulpes</td>\n",
       "    </tr>\n",
       "    <tr>\n",
       "      <th>3963</th>\n",
       "      <td>Wilsonomyces carpophilus</td>\n",
       "    </tr>\n",
       "    <tr>\n",
       "      <th>3964</th>\n",
       "      <td>Xylaria filiformis</td>\n",
       "    </tr>\n",
       "    <tr>\n",
       "      <th>3965</th>\n",
       "      <td>Xylaria hypoxylon</td>\n",
       "    </tr>\n",
       "    <tr>\n",
       "      <th>3966</th>\n",
       "      <td>Xylaria oxyacanthae</td>\n",
       "    </tr>\n",
       "    <tr>\n",
       "      <th>3967</th>\n",
       "      <td>Xylophagus lugens</td>\n",
       "    </tr>\n",
       "    <tr>\n",
       "      <th>3968</th>\n",
       "      <td>Xylosandrus germanus</td>\n",
       "    </tr>\n",
       "    <tr>\n",
       "      <th>3969</th>\n",
       "      <td>Xyloterinus politus</td>\n",
       "    </tr>\n",
       "    <tr>\n",
       "      <th>3970</th>\n",
       "      <td>Zelus luridus</td>\n",
       "    </tr>\n",
       "    <tr>\n",
       "      <th>3971</th>\n",
       "      <td>Zelus luridus</td>\n",
       "    </tr>\n",
       "    <tr>\n",
       "      <th>3972</th>\n",
       "      <td>no name</td>\n",
       "    </tr>\n",
       "    <tr>\n",
       "      <th>3973</th>\n",
       "      <td>no name</td>\n",
       "    </tr>\n",
       "    <tr>\n",
       "      <th>3974</th>\n",
       "      <td>no name</td>\n",
       "    </tr>\n",
       "  </tbody>\n",
       "</table>\n",
       "<p>3975 rows × 1 columns</p>\n",
       "</div>"
      ],
      "text/plain": [
       "               sourceTaxonName\n",
       "0                        Acari\n",
       "1                        Acari\n",
       "2                        Acari\n",
       "3                        Acari\n",
       "4                        Acari\n",
       "5                        Acari\n",
       "6                        Acari\n",
       "7                        Acari\n",
       "8                        Acari\n",
       "9                        Acari\n",
       "10                       Acari\n",
       "11                       Acari\n",
       "12                       Acari\n",
       "13                       Acari\n",
       "14                       Acari\n",
       "15                       Acari\n",
       "16                       Acari\n",
       "17                       Acari\n",
       "18                       Acari\n",
       "19                       Acari\n",
       "20                       Acari\n",
       "21                       Acari\n",
       "22                       Acari\n",
       "23                       Acari\n",
       "24                       Acari\n",
       "25                       Acari\n",
       "26                       Acari\n",
       "27                       Acari\n",
       "28                       Acari\n",
       "29                       Acari\n",
       "...                        ...\n",
       "3945           Vireo olivaceus\n",
       "3946           Vireo olivaceus\n",
       "3947           Vireo olivaceus\n",
       "3948           Vireo olivaceus\n",
       "3949           Vireo olivaceus\n",
       "3950      Vireo philadelphicus\n",
       "3951      Vireo philadelphicus\n",
       "3952      Volutella nectriodes\n",
       "3953     Volutella nectrioides\n",
       "3954     Volutella nectrioides\n",
       "3955     Volutella nectrioides\n",
       "3956     Volutella nectrioides\n",
       "3957     Volutella nectrioides\n",
       "3958     Volutella nectrioides\n",
       "3959  Volutellonectria consors\n",
       "3960             Vulpes vulpes\n",
       "3961             Vulpes vulpes\n",
       "3962             Vulpes vulpes\n",
       "3963  Wilsonomyces carpophilus\n",
       "3964        Xylaria filiformis\n",
       "3965         Xylaria hypoxylon\n",
       "3966       Xylaria oxyacanthae\n",
       "3967         Xylophagus lugens\n",
       "3968      Xylosandrus germanus\n",
       "3969       Xyloterinus politus\n",
       "3970             Zelus luridus\n",
       "3971             Zelus luridus\n",
       "3972                   no name\n",
       "3973                   no name\n",
       "3974                   no name\n",
       "\n",
       "[3975 rows x 1 columns]"
      ]
     },
     "execution_count": 7,
     "metadata": {},
     "output_type": "execute_result"
    }
   ],
   "source": [
    "select"
   ]
  },
  {
   "cell_type": "code",
   "execution_count": 8,
   "metadata": {},
   "outputs": [],
   "source": [
    "conn.close()"
   ]
  },
  {
   "cell_type": "code",
   "execution_count": null,
   "metadata": {},
   "outputs": [],
   "source": []
  }
 ],
 "metadata": {
  "kernelspec": {
   "display_name": "Python 3",
   "language": "python",
   "name": "python3"
  },
  "language_info": {
   "codemirror_mode": {
    "name": "ipython",
    "version": 3
   },
   "file_extension": ".py",
   "mimetype": "text/x-python",
   "name": "python",
   "nbconvert_exporter": "python",
   "pygments_lexer": "ipython3",
   "version": "3.7.3"
  }
 },
 "nbformat": 4,
 "nbformat_minor": 2
}
