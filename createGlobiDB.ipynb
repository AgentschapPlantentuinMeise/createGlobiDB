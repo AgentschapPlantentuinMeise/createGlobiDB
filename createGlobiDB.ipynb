{
 "cells": [
  {
   "cell_type": "raw",
   "metadata": {},
   "source": [
    "# Create the file globi.db\n",
    "\n",
    "To speed up the processing of data from GLOBI it is better to use it as a SQLITE database"
   ]
  },
  {
   "cell_type": "code",
   "execution_count": 1,
   "metadata": {},
   "outputs": [
    {
     "name": "stdout",
     "output_type": "stream",
     "text": [
      "3.7.3 (default, Mar 27 2019, 17:13:21) [MSC v.1915 64 bit (AMD64)]\n"
     ]
    }
   ],
   "source": [
    "import pandas as pd\n",
    "import sys\n",
    "print(sys.version)\n",
    "\n",
    "#Python 3.7.4 (default, Aug 9 2019, 18:34:13) [MSC v.1915 64 bit (AMD64)]\n",
    "#pygbif 0.3.0"
   ]
  },
  {
   "cell_type": "markdown",
   "metadata": {},
   "source": [
    "## Create a SQLite database with APSW"
   ]
  },
  {
   "cell_type": "code",
   "execution_count": 2,
   "metadata": {},
   "outputs": [],
   "source": [
    "import sqlite3\n",
    "from sqlite3 import Error"
   ]
  },
  {
   "cell_type": "code",
   "execution_count": 3,
   "metadata": {},
   "outputs": [],
   "source": [
    "database = r\"globi.db\"\n",
    "try:\n",
    "    conn = sqlite3.connect(database)\n",
    "except Error as e:\n",
    "    print(e)"
   ]
  },
  {
   "cell_type": "code",
   "execution_count": 4,
   "metadata": {},
   "outputs": [],
   "source": [
    "\n",
    " \n",
    "sql_create_globi_table = \"\"\" CREATE TABLE IF NOT EXISTS globi (\n",
    "                                                            sourceTaxonId,\n",
    "                                                            sourceTaxonIds,\n",
    "                                                            sourceTaxonName,\n",
    "                                                            sourceTaxonRank,\n",
    "                                                            sourceTaxonPathNames,\n",
    "                                                            sourceTaxonPathIds,\n",
    "                                                            sourceTaxonPathRankNames,\n",
    "                                                            sourceTaxonSpeciesName,\n",
    "                                                            sourceTaxonSpeciesId,\n",
    "                                                            sourceTaxonGenusName,\n",
    "                                                            sourceTaxonGenusId,\n",
    "                                                            sourceTaxonFamilyName,\n",
    "                                                            sourceTaxonFamilyId,\n",
    "                                                            sourceTaxonOrderName,\n",
    "                                                            sourceTaxonOrderId,\n",
    "                                                            sourceTaxonClassName,\n",
    "                                                            sourceTaxonClassId,\n",
    "                                                            sourceTaxonPhylumName,\n",
    "                                                            sourceTaxonPhylumId,\n",
    "                                                            sourceTaxonKingdomName,\n",
    "                                                            sourceTaxonKingdomId,\n",
    "                                                            sourceId,\n",
    "                                                            sourceOccurrenceId,\n",
    "                                                            sourceCatalogNumber,\n",
    "                                                            sourceBasisOfRecordId,\n",
    "                                                            sourceBasisOfRecordName,\n",
    "                                                            sourceLifeStageId,\n",
    "                                                            sourceLifeStageName,\n",
    "                                                            sourceBodyPartId,\n",
    "                                                            sourceBodyPartName,\n",
    "                                                            sourcePhysiologicalStateId,\n",
    "                                                            sourcePhysiologicalStateName,\n",
    "                                                            sourceSexId,\n",
    "                                                            sourceSexName,\n",
    "                                                            interactionTypeName,\n",
    "                                                            interactionTypeId,\n",
    "                                                            targetTaxonId,\n",
    "                                                            targetTaxonIds,\n",
    "                                                            targetTaxonName,\n",
    "                                                            targetTaxonRank,\n",
    "                                                            targetTaxonPathNames,\n",
    "                                                            targetTaxonPathIds,\n",
    "                                                            targetTaxonPathRankNames,\n",
    "                                                            targetTaxonSpeciesName,\n",
    "                                                            targetTaxonSpeciesId,\n",
    "                                                            targetTaxonGenusName,\n",
    "                                                            targetTaxonGenusId,\n",
    "                                                            targetTaxonFamilyName,\n",
    "                                                            targetTaxonFamilyId,\n",
    "                                                            targetTaxonOrderName,\n",
    "                                                            targetTaxonOrderId,\n",
    "                                                            targetTaxonClassName,\n",
    "                                                            targetTaxonClassId,\n",
    "                                                            targetTaxonPhylumName,\n",
    "                                                            targetTaxonPhylumId,\n",
    "                                                            targetTaxonKingdomName,\n",
    "                                                            targetTaxonKingdomId,\n",
    "                                                            targetId,\n",
    "                                                            targetOccurrenceId,\n",
    "                                                            targetCatalogNumber,\n",
    "                                                            targetBasisOfRecordId,\n",
    "                                                            targetBasisOfRecordName,\n",
    "                                                            targetLifeStageId,\n",
    "                                                            targetLifeStageName,\n",
    "                                                            targetBodyPartId,\n",
    "                                                            targetBodyPartName,\n",
    "                                                            targetPhysiologicalStateId,\n",
    "                                                            targetPhysiologicalStateName,\n",
    "                                                            targetSexId,\n",
    "                                                            targetSexName,\n",
    "                                                            decimalLatitude,\n",
    "                                                            decimalLongitude,\n",
    "                                                            localityId,\n",
    "                                                            localityName,\n",
    "                                                            eventDateUnixEpoch,\n",
    "                                                            argumentTypeId,\n",
    "                                                            referenceCitation,\n",
    "                                                            referenceDoi,\n",
    "                                                            referenceUrl,\n",
    "                                                            sourceCitation,\n",
    "                                                            sourceNamespace,\n",
    "                                                            sourceArchiveURI,\n",
    "                                                            sourceDOI,\n",
    "                                                            sourceLastSeenAtUnixEpoch\n",
    "                                                        ); \"\"\""
   ]
  },
  {
   "cell_type": "code",
   "execution_count": 5,
   "metadata": {},
   "outputs": [],
   "source": [
    "# create table\n",
    "try:\n",
    "    conn.execute(sql_create_globi_table)\n",
    "    conn.commit()\n",
    "except Error as e:\n",
    "    print(e)"
   ]
  },
  {
   "cell_type": "code",
   "execution_count": 6,
   "metadata": {},
   "outputs": [],
   "source": [
    "sql_create_refutes_table = \"\"\" CREATE TABLE IF NOT EXISTS globirefutes (\n",
    "                                                            sourceTaxonId,\n",
    "                                                            sourceTaxonIds,\n",
    "                                                            sourceTaxonName,\n",
    "                                                            sourceTaxonRank,\n",
    "                                                            sourceTaxonPathNames,\n",
    "                                                            sourceTaxonPathIds,\n",
    "                                                            sourceTaxonPathRankNames,\n",
    "                                                            sourceTaxonSpeciesName,\n",
    "                                                            sourceTaxonSpeciesId,\n",
    "                                                            sourceTaxonGenusName,\n",
    "                                                            sourceTaxonGenusId,\n",
    "                                                            sourceTaxonFamilyName,\n",
    "                                                            sourceTaxonFamilyId,\n",
    "                                                            sourceTaxonOrderName,\n",
    "                                                            sourceTaxonOrderId,\n",
    "                                                            sourceTaxonClassName,\n",
    "                                                            sourceTaxonClassId,\n",
    "                                                            sourceTaxonPhylumName,\n",
    "                                                            sourceTaxonPhylumId,\n",
    "                                                            sourceTaxonKingdomName,\n",
    "                                                            sourceTaxonKingdomId,\n",
    "                                                            sourceId,\n",
    "                                                            sourceOccurrenceId,\n",
    "                                                            sourceCatalogNumber,\n",
    "                                                            sourceBasisOfRecordId,\n",
    "                                                            sourceBasisOfRecordName,\n",
    "                                                            sourceLifeStageId,\n",
    "                                                            sourceLifeStageName,\n",
    "                                                            sourceBodyPartId,\n",
    "                                                            sourceBodyPartName,\n",
    "                                                            sourcePhysiologicalStateId,\n",
    "                                                            sourcePhysiologicalStateName,\n",
    "                                                            sourceSexId,\n",
    "                                                            sourceSexName,\n",
    "                                                            interactionTypeName,\n",
    "                                                            interactionTypeId,\n",
    "                                                            targetTaxonId,\n",
    "                                                            targetTaxonIds,\n",
    "                                                            targetTaxonName,\n",
    "                                                            targetTaxonRank,\n",
    "                                                            targetTaxonPathNames,\n",
    "                                                            targetTaxonPathIds,\n",
    "                                                            targetTaxonPathRankNames,\n",
    "                                                            targetTaxonSpeciesName,\n",
    "                                                            targetTaxonSpeciesId,\n",
    "                                                            targetTaxonGenusName,\n",
    "                                                            targetTaxonGenusId,\n",
    "                                                            targetTaxonFamilyName,\n",
    "                                                            targetTaxonFamilyId,\n",
    "                                                            targetTaxonOrderName,\n",
    "                                                            targetTaxonOrderId,\n",
    "                                                            targetTaxonClassName,\n",
    "                                                            targetTaxonClassId,\n",
    "                                                            targetTaxonPhylumName,\n",
    "                                                            targetTaxonPhylumId,\n",
    "                                                            targetTaxonKingdomName,\n",
    "                                                            targetTaxonKingdomId,\n",
    "                                                            targetId,\n",
    "                                                            targetOccurrenceId,\n",
    "                                                            targetCatalogNumber,\n",
    "                                                            targetBasisOfRecordId,\n",
    "                                                            targetBasisOfRecordName,\n",
    "                                                            targetLifeStageId,\n",
    "                                                            targetLifeStageName,\n",
    "                                                            targetBodyPartId,\n",
    "                                                            targetBodyPartName,\n",
    "                                                            targetPhysiologicalStateId,\n",
    "                                                            targetPhysiologicalStateName,\n",
    "                                                            targetSexId,\n",
    "                                                            targetSexName,\n",
    "                                                            decimalLatitude,\n",
    "                                                            decimalLongitude,\n",
    "                                                            localityId,\n",
    "                                                            localityName,\n",
    "                                                            eventDateUnixEpoch,\n",
    "                                                            argumentTypeId,\n",
    "                                                            referenceCitation,\n",
    "                                                            referenceDoi,\n",
    "                                                            referenceUrl,\n",
    "                                                            sourceCitation,\n",
    "                                                            sourceNamespace,\n",
    "                                                            sourceArchiveURI,\n",
    "                                                            sourceDOI,\n",
    "                                                            sourceLastSeenAtUnixEpoch\n",
    "                                                        ); \"\"\""
   ]
  },
  {
   "cell_type": "code",
   "execution_count": 7,
   "metadata": {},
   "outputs": [],
   "source": [
    "# create table\n",
    "try:\n",
    "    conn.execute(sql_create_refutes_table)\n",
    "    conn.commit()\n",
    "except Error as e:\n",
    "    print(e)"
   ]
  },
  {
   "cell_type": "markdown",
   "metadata": {},
   "source": [
    "## Clear down the table before filling it up again"
   ]
  },
  {
   "cell_type": "code",
   "execution_count": 8,
   "metadata": {
    "scrolled": true
   },
   "outputs": [
    {
     "data": {
      "text/plain": [
       "<sqlite3.Cursor at 0x175aaa0c810>"
      ]
     },
     "execution_count": 8,
     "metadata": {},
     "output_type": "execute_result"
    }
   ],
   "source": [
    "conn.execute('DELETE FROM globi')"
   ]
  },
  {
   "cell_type": "code",
   "execution_count": 9,
   "metadata": {},
   "outputs": [
    {
     "data": {
      "text/plain": [
       "<sqlite3.Cursor at 0x175aaa0cb90>"
      ]
     },
     "execution_count": 9,
     "metadata": {},
     "output_type": "execute_result"
    }
   ],
   "source": [
    "conn.commit()\n",
    "conn.execute('VACUUM')"
   ]
  },
  {
   "cell_type": "markdown",
   "metadata": {},
   "source": [
    "## Load the globi table\n",
    "Where interactions are refuted GloBI creates an entry in the database with an argumentTypeId of https://en.wiktionary.org/wiki/refute. These refuted interactions are loaded into a seperate table"
   ]
  },
  {
   "cell_type": "code",
   "execution_count": 10,
   "metadata": {
    "scrolled": true
   },
   "outputs": [
    {
     "name": "stdout",
     "output_type": "stream",
     "text": [
      "Connected to SQLite\n"
     ]
    }
   ],
   "source": [
    "cursor = conn.cursor()\n",
    "print(\"Connected to SQLite\")\n",
    "\n",
    "with open(r\"interactions.tsv\", \"r\", encoding='utf-8') as f:        \n",
    "    rows = f.readlines()\n",
    "    for row in rows:\n",
    "        fields = row.split('\\t')\n",
    "        if fields[75] == \"https://en.wiktionary.org/wiki/support\":\n",
    "            conn.execute(\"\"\"INSERT INTO globi (sourceTaxonId, sourceTaxonIds, sourceTaxonName, sourceTaxonRank, \\\n",
    "                                    sourceTaxonPathNames, sourceTaxonPathIds, sourceTaxonPathRankNames, sourceTaxonSpeciesName, \\\n",
    "                                    sourceTaxonSpeciesId, sourceTaxonGenusName, sourceTaxonGenusId, sourceTaxonFamilyName, \\\n",
    "                                    sourceTaxonFamilyId, sourceTaxonOrderName, sourceTaxonOrderId, sourceTaxonClassName, \\\n",
    "                                    sourceTaxonClassId, sourceTaxonPhylumName, sourceTaxonPhylumId, sourceTaxonKingdomName, \\\n",
    "                                    sourceTaxonKingdomId, sourceId, sourceOccurrenceId, sourceCatalogNumber, sourceBasisOfRecordId, \\\n",
    "                                    sourceBasisOfRecordName, sourceLifeStageId, sourceLifeStageName, sourceBodyPartId, \\\n",
    "                                    sourceBodyPartName, sourcePhysiologicalStateId, sourcePhysiologicalStateName, \\\n",
    "                                    sourceSexId, sourceSexName, \\\n",
    "                                    interactionTypeName, interactionTypeId, targetTaxonId, targetTaxonIds, targetTaxonName, \\\n",
    "                                    targetTaxonRank, targetTaxonPathNames, targetTaxonPathIds, targetTaxonPathRankNames, \\\n",
    "                                    targetTaxonSpeciesName, targetTaxonSpeciesId, targetTaxonGenusName, targetTaxonGenusId, \\\n",
    "                                    targetTaxonFamilyName, targetTaxonFamilyId, targetTaxonOrderName, targetTaxonOrderId, \\\n",
    "                                    targetTaxonClassName, targetTaxonClassId, targetTaxonPhylumName, targetTaxonPhylumId, \\\n",
    "                                    targetTaxonKingdomName, targetTaxonKingdomId, targetId, targetOccurrenceId, targetCatalogNumber, \\\n",
    "                                    targetBasisOfRecordId, targetBasisOfRecordName, targetLifeStageId, targetLifeStageName, \\\n",
    "                                    targetBodyPartId, targetBodyPartName, targetPhysiologicalStateId, targetPhysiologicalStateName, \\\n",
    "                                    targetSexId, targetSexName, \\\n",
    "                                    decimalLatitude, decimalLongitude, localityId, localityName, eventDateUnixEpoch, argumentTypeId, \\\n",
    "                                    referenceCitation, referenceDoi, referenceUrl, sourceCitation, sourceNamespace, \\\n",
    "                                    sourceArchiveURI, sourceDOI, sourceLastSeenAtUnixEpoch) \\\n",
    "                                    VALUES(?,?,?,?,?,?,?,?,?,?,?,?,?,?,?,?,?,?,?,?,?,?,?,?,?,?,?,?,?,?,?,?,?,?,?,?,?,?,?,?,?,?,?,?,?,?,?,?,?,?,?,?,?,?,?,?,?,?,?,?,?,?,?,?,?,?,?,?,?,?,?,?,?,?,?,?,?,?,?,?,?,?,?,?)\"\"\", \\\n",
    "                                    (fields[0],fields[1],fields[2],fields[3],fields[4], \\\n",
    "                                     fields[5],fields[6],fields[7],fields[8],fields[9], \\\n",
    "                                     fields[10],fields[11],fields[12],fields[13],fields[14], \\\n",
    "                                     fields[15],fields[16],fields[17],fields[18],fields[19], \\\n",
    "                                     fields[20],fields[21],fields[22],fields[23],fields[24], \\\n",
    "                                     fields[25],fields[26],fields[27],fields[28],fields[29], \\\n",
    "                                     fields[30],fields[31],fields[32],fields[33],fields[34], \\\n",
    "                                     fields[35],fields[36],fields[37],fields[38],fields[39], \\\n",
    "                                     fields[40],fields[41],fields[42],fields[43],fields[44], \\\n",
    "                                     fields[45],fields[46],fields[47],fields[48],fields[49], \\\n",
    "                                     fields[50],fields[51],fields[52],fields[53],fields[54], \\\n",
    "                                     fields[55],fields[56],fields[57],fields[58],fields[59], \\\n",
    "                                     fields[60],fields[61],fields[62],fields[63],fields[64], \\\n",
    "                                     fields[65],fields[66],fields[67],fields[68],fields[69], \\\n",
    "                                     fields[70],fields[71],fields[72],fields[73],fields[74], \\\n",
    "                                     fields[75],fields[76],fields[77],fields[78],fields[79], \\\n",
    "                                     fields[80],fields[81],fields[82],fields[83]))\n",
    "        else:\n",
    "            conn.commit()\n",
    "            conn.execute(\"\"\"INSERT INTO globirefutes (sourceTaxonId, sourceTaxonIds, sourceTaxonName, sourceTaxonRank, \\\n",
    "                    sourceTaxonPathNames, sourceTaxonPathIds, sourceTaxonPathRankNames, sourceTaxonSpeciesName, \\\n",
    "                    sourceTaxonSpeciesId, sourceTaxonGenusName, sourceTaxonGenusId, sourceTaxonFamilyName, \\\n",
    "                    sourceTaxonFamilyId, sourceTaxonOrderName, sourceTaxonOrderId, sourceTaxonClassName, \\\n",
    "                    sourceTaxonClassId, sourceTaxonPhylumName, sourceTaxonPhylumId, sourceTaxonKingdomName, \\\n",
    "                    sourceTaxonKingdomId, sourceId, sourceOccurrenceId, sourceCatalogNumber, sourceBasisOfRecordId, \\\n",
    "                    sourceBasisOfRecordName, sourceLifeStageId, sourceLifeStageName, sourceBodyPartId, \\\n",
    "                    sourceBodyPartName, sourcePhysiologicalStateId, sourcePhysiologicalStateName, \\\n",
    "                    sourceSexId, sourceSexName, \\\n",
    "                    interactionTypeName, interactionTypeId, targetTaxonId, targetTaxonIds, targetTaxonName, \\\n",
    "                    targetTaxonRank, targetTaxonPathNames, targetTaxonPathIds, targetTaxonPathRankNames, \\\n",
    "                    targetTaxonSpeciesName, targetTaxonSpeciesId, targetTaxonGenusName, targetTaxonGenusId, \\\n",
    "                    targetTaxonFamilyName, targetTaxonFamilyId, targetTaxonOrderName, targetTaxonOrderId, \\\n",
    "                    targetTaxonClassName, targetTaxonClassId, targetTaxonPhylumName, targetTaxonPhylumId, \\\n",
    "                    targetTaxonKingdomName, targetTaxonKingdomId, targetId, targetOccurrenceId, targetCatalogNumber, \\\n",
    "                    targetBasisOfRecordId, targetBasisOfRecordName, targetLifeStageId, targetLifeStageName, \\\n",
    "                    targetBodyPartId, targetBodyPartName, targetPhysiologicalStateId, targetPhysiologicalStateName, \\\n",
    "                    targetSexId, targetSexName, \\\n",
    "                    decimalLatitude, decimalLongitude, localityId, localityName, eventDateUnixEpoch, argumentTypeId, \\\n",
    "                    referenceCitation, referenceDoi, referenceUrl, sourceCitation, sourceNamespace, \\\n",
    "                    sourceArchiveURI, sourceDOI, sourceLastSeenAtUnixEpoch) \\\n",
    "                    VALUES(?,?,?,?,?,?,?,?,?,?,?,?,?,?,?,?,?,?,?,?,?,?,?,?,?,?,?,?,?,?,?,?,?,?,?,?,?,?,?,?,?,?,?,?,?,?,?,?,?,?,?,?,?,?,?,?,?,?,?,?,?,?,?,?,?,?,?,?,?,?,?,?,?,?,?,?,?,?,?,?,?,?,?,?)\"\"\", \\\n",
    "                    (fields[0],fields[1],fields[2],fields[3],fields[4], \\\n",
    "                     fields[5],fields[6],fields[7],fields[8],fields[9], \\\n",
    "                     fields[10],fields[11],fields[12],fields[13],fields[14], \\\n",
    "                     fields[15],fields[16],fields[17],fields[18],fields[19], \\\n",
    "                     fields[20],fields[21],fields[22],fields[23],fields[24], \\\n",
    "                     fields[25],fields[26],fields[27],fields[28],fields[29], \\\n",
    "                     fields[30],fields[31],fields[32],fields[33],fields[34], \\\n",
    "                     fields[35],fields[36],fields[37],fields[38],fields[39], \\\n",
    "                     fields[40],fields[41],fields[42],fields[43],fields[44], \\\n",
    "                     fields[45],fields[46],fields[47],fields[48],fields[49], \\\n",
    "                     fields[50],fields[51],fields[52],fields[53],fields[54], \\\n",
    "                     fields[55],fields[56],fields[57],fields[58],fields[59], \\\n",
    "                     fields[60],fields[61],fields[62],fields[63],fields[64], \\\n",
    "                     fields[65],fields[66],fields[67],fields[68],fields[69], \\\n",
    "                     fields[70],fields[71],fields[72],fields[73],fields[74], \\\n",
    "                     fields[75],fields[76],fields[77],fields[78],fields[79], \\\n",
    "                     fields[80],fields[81],fields[82],fields[83]))"
   ]
  },
  {
   "cell_type": "code",
   "execution_count": 11,
   "metadata": {},
   "outputs": [],
   "source": [
    "conn.commit()"
   ]
  },
  {
   "cell_type": "markdown",
   "metadata": {},
   "source": [
    "## Eliminate some useless interactions\n",
    "Although the refutes table may help to get rid of some useless and irrational interactions it is more efficient to delete them in bulk when it is easy to do so."
   ]
  },
  {
   "cell_type": "code",
   "execution_count": 12,
   "metadata": {},
   "outputs": [],
   "source": [
    "#Get rid of circular references\n",
    "conn.execute('DELETE FROM globi WHERE sourceTaxonSpeciesName = targetTaxonSpeciesName')\n",
    "conn.commit()"
   ]
  },
  {
   "cell_type": "code",
   "execution_count": 13,
   "metadata": {},
   "outputs": [],
   "source": [
    "# Remove irrational interations\n",
    "conn.execute('DELETE FROM globi WHERE sourceTaxonKingdomName = \"Plantae\" and interactionTypeName = \"visitsFlowerOf\"')\n",
    "conn.commit()    \n",
    "conn.execute('DELETE FROM globi WHERE sourceTaxonKingdomName = \"Plantae\" and interactionTypeName = \"visits\"')\n",
    "conn.commit()            \n",
    "conn.execute('DELETE FROM globi WHERE sourceTaxonKingdomName = \"Plantae\" and interactionTypeName = \"pollinates\"')\n",
    "conn.commit()"
   ]
  },
  {
   "cell_type": "markdown",
   "metadata": {},
   "source": [
    "## Build some indexes to make queries faster"
   ]
  },
  {
   "cell_type": "code",
   "execution_count": 33,
   "metadata": {},
   "outputs": [],
   "source": [
    "#conn.execute('DROP INDEX sourceTaxonNameIndex')\n",
    "#conn.execute('DROP INDEX targetTaxonNameIndex')\n",
    "#conn.execute('DROP INDEX sourceAndInteractionTypeIndex')\n",
    "#conn.execute('DROP INDEX targetAndInteractionTypeIndex')\n",
    "#conn.execute('DROP INDEX sourceTaxonRankIndex')"
   ]
  },
  {
   "cell_type": "markdown",
   "metadata": {},
   "source": [
    "# Taxon indexes"
   ]
  },
  {
   "cell_type": "code",
   "execution_count": 14,
   "metadata": {},
   "outputs": [
    {
     "data": {
      "text/plain": [
       "<sqlite3.Cursor at 0x175aaa0cab0>"
      ]
     },
     "execution_count": 14,
     "metadata": {},
     "output_type": "execute_result"
    }
   ],
   "source": [
    "conn.execute('CREATE INDEX IF NOT EXISTS sourceTaxonNameIndex ON globi(sourceTaxonName)')"
   ]
  },
  {
   "cell_type": "code",
   "execution_count": 15,
   "metadata": {},
   "outputs": [
    {
     "data": {
      "text/plain": [
       "<sqlite3.Cursor at 0x175aaa0c7a0>"
      ]
     },
     "execution_count": 15,
     "metadata": {},
     "output_type": "execute_result"
    }
   ],
   "source": [
    "conn.execute('CREATE INDEX IF NOT EXISTS targetTaxonNameIndex ON globi(targetTaxonName)')"
   ]
  },
  {
   "cell_type": "code",
   "execution_count": 16,
   "metadata": {},
   "outputs": [
    {
     "data": {
      "text/plain": [
       "<sqlite3.Cursor at 0x175aaa61030>"
      ]
     },
     "execution_count": 16,
     "metadata": {},
     "output_type": "execute_result"
    }
   ],
   "source": [
    "conn.execute('CREATE INDEX IF NOT EXISTS sourceAndInteractionTypeIndex ON globi(sourceTaxonName, interactionTypeName)')"
   ]
  },
  {
   "cell_type": "code",
   "execution_count": 17,
   "metadata": {},
   "outputs": [
    {
     "data": {
      "text/plain": [
       "<sqlite3.Cursor at 0x175aaa61180>"
      ]
     },
     "execution_count": 17,
     "metadata": {},
     "output_type": "execute_result"
    }
   ],
   "source": [
    "conn.execute('CREATE INDEX IF NOT EXISTS targetAndInteractionTypeIndex ON globi(targetTaxonName, interactionTypeName)')"
   ]
  },
  {
   "cell_type": "code",
   "execution_count": 18,
   "metadata": {},
   "outputs": [
    {
     "data": {
      "text/plain": [
       "<sqlite3.Cursor at 0x175aaa611f0>"
      ]
     },
     "execution_count": 18,
     "metadata": {},
     "output_type": "execute_result"
    }
   ],
   "source": [
    "conn.execute('CREATE INDEX IF NOT EXISTS targetAndInteractionTypeRankIndex ON globi(targetTaxonName, interactionTypeName, targetTaxonRank, sourceTaxonRank)')"
   ]
  },
  {
   "cell_type": "code",
   "execution_count": 19,
   "metadata": {},
   "outputs": [
    {
     "data": {
      "text/plain": [
       "<sqlite3.Cursor at 0x175aaa61420>"
      ]
     },
     "execution_count": 19,
     "metadata": {},
     "output_type": "execute_result"
    }
   ],
   "source": [
    "conn.execute('CREATE INDEX IF NOT EXISTS sourceAndInteractionTypeRankIndex ON globi(sourceTaxonName, interactionTypeName, targetTaxonRank, sourceTaxonRank)')"
   ]
  },
  {
   "cell_type": "code",
   "execution_count": 20,
   "metadata": {},
   "outputs": [
    {
     "data": {
      "text/plain": [
       "<sqlite3.Cursor at 0x175aaa61570>"
      ]
     },
     "execution_count": 20,
     "metadata": {},
     "output_type": "execute_result"
    }
   ],
   "source": [
    "conn.execute('CREATE INDEX IF NOT EXISTS sourceTargetAndInteractionTypeRankIndex ON globi(targetTaxonName, sourceTaxonName, interactionTypeName, targetTaxonRank, sourceTaxonRank)')"
   ]
  },
  {
   "cell_type": "code",
   "execution_count": 21,
   "metadata": {},
   "outputs": [
    {
     "data": {
      "text/plain": [
       "<sqlite3.Cursor at 0x175aaa616c0>"
      ]
     },
     "execution_count": 21,
     "metadata": {},
     "output_type": "execute_result"
    }
   ],
   "source": [
    "conn.execute('CREATE INDEX IF NOT EXISTS sourceTaxonRankIndex ON globi(sourceTaxonRank)')"
   ]
  },
  {
   "cell_type": "code",
   "execution_count": 22,
   "metadata": {},
   "outputs": [
    {
     "data": {
      "text/plain": [
       "<sqlite3.Cursor at 0x175aaa61810>"
      ]
     },
     "execution_count": 22,
     "metadata": {},
     "output_type": "execute_result"
    }
   ],
   "source": [
    "conn.execute('CREATE INDEX IF NOT EXISTS targetTaxonRankIndex ON globi(targetTaxonName, targetTaxonRank, sourceTaxonRank)')"
   ]
  },
  {
   "cell_type": "code",
   "execution_count": 23,
   "metadata": {},
   "outputs": [
    {
     "data": {
      "text/plain": [
       "<sqlite3.Cursor at 0x175aaa61960>"
      ]
     },
     "execution_count": 23,
     "metadata": {},
     "output_type": "execute_result"
    }
   ],
   "source": [
    "conn.execute('CREATE INDEX IF NOT EXISTS sourceTaxonRankIndex ON globi(sourceTaxonName, sourceTaxonRank, targetTaxonRank)')"
   ]
  },
  {
   "cell_type": "code",
   "execution_count": 24,
   "metadata": {},
   "outputs": [
    {
     "data": {
      "text/plain": [
       "<sqlite3.Cursor at 0x175aaa61ab0>"
      ]
     },
     "execution_count": 24,
     "metadata": {},
     "output_type": "execute_result"
    }
   ],
   "source": [
    "conn.execute('CREATE INDEX IF NOT EXISTS taxonRankIndex ON globi(sourceTaxonRank,targetTaxonRank)')"
   ]
  },
  {
   "cell_type": "markdown",
   "metadata": {},
   "source": [
    "# Species indexes"
   ]
  },
  {
   "cell_type": "code",
   "execution_count": 25,
   "metadata": {},
   "outputs": [
    {
     "data": {
      "text/plain": [
       "<sqlite3.Cursor at 0x175aaa61c00>"
      ]
     },
     "execution_count": 25,
     "metadata": {},
     "output_type": "execute_result"
    }
   ],
   "source": [
    "conn.execute('CREATE INDEX IF NOT EXISTS sourceSpAndInteractionTypeIndex ON globi(sourceTaxonSpeciesName, interactionTypeName)')"
   ]
  },
  {
   "cell_type": "code",
   "execution_count": 26,
   "metadata": {},
   "outputs": [
    {
     "data": {
      "text/plain": [
       "<sqlite3.Cursor at 0x175aaa61d50>"
      ]
     },
     "execution_count": 26,
     "metadata": {},
     "output_type": "execute_result"
    }
   ],
   "source": [
    "conn.execute('CREATE INDEX IF NOT EXISTS targetSpAndInteractionTypeIndex ON globi(targetTaxonSpeciesName, interactionTypeName)')"
   ]
  },
  {
   "cell_type": "code",
   "execution_count": 27,
   "metadata": {},
   "outputs": [
    {
     "data": {
      "text/plain": [
       "<sqlite3.Cursor at 0x175aaa61ea0>"
      ]
     },
     "execution_count": 27,
     "metadata": {},
     "output_type": "execute_result"
    }
   ],
   "source": [
    "conn.execute('CREATE INDEX IF NOT EXISTS sourceSpTaxonNameIndex ON globi(sourceTaxonSpeciesName)')"
   ]
  },
  {
   "cell_type": "code",
   "execution_count": 28,
   "metadata": {},
   "outputs": [
    {
     "data": {
      "text/plain": [
       "<sqlite3.Cursor at 0x175aaa9a030>"
      ]
     },
     "execution_count": 28,
     "metadata": {},
     "output_type": "execute_result"
    }
   ],
   "source": [
    "conn.execute('CREATE INDEX IF NOT EXISTS targetSpTaxonNameIndex ON globi(targetTaxonSpeciesName)')"
   ]
  },
  {
   "cell_type": "code",
   "execution_count": 29,
   "metadata": {},
   "outputs": [
    {
     "data": {
      "text/plain": [
       "<sqlite3.Cursor at 0x175aaa9a0a0>"
      ]
     },
     "execution_count": 29,
     "metadata": {},
     "output_type": "execute_result"
    }
   ],
   "source": [
    "conn.execute('CREATE INDEX IF NOT EXISTS sourceTargetSpTaxonNameIndex ON globi(sourceTaxonSpeciesName,targetTaxonSpeciesName)')"
   ]
  },
  {
   "cell_type": "markdown",
   "metadata": {},
   "source": [
    "## refutes indexes"
   ]
  },
  {
   "cell_type": "code",
   "execution_count": 30,
   "metadata": {},
   "outputs": [
    {
     "data": {
      "text/plain": [
       "<sqlite3.Cursor at 0x175aaa9a2d0>"
      ]
     },
     "execution_count": 30,
     "metadata": {},
     "output_type": "execute_result"
    }
   ],
   "source": [
    "conn.execute('CREATE INDEX IF NOT EXISTS sourceSpAndInteractionTypeIndex ON globirefutes(sourceTaxonSpeciesName, interactionTypeName)')"
   ]
  },
  {
   "cell_type": "code",
   "execution_count": 31,
   "metadata": {},
   "outputs": [
    {
     "data": {
      "text/plain": [
       "<sqlite3.Cursor at 0x175aaa9a420>"
      ]
     },
     "execution_count": 31,
     "metadata": {},
     "output_type": "execute_result"
    }
   ],
   "source": [
    "conn.execute('CREATE INDEX IF NOT EXISTS targetSpAndInteractionTypeIndex ON globirefutes(targetTaxonSpeciesName, interactionTypeName)')"
   ]
  },
  {
   "cell_type": "code",
   "execution_count": 32,
   "metadata": {},
   "outputs": [
    {
     "data": {
      "text/plain": [
       "<sqlite3.Cursor at 0x175aaa9a570>"
      ]
     },
     "execution_count": 32,
     "metadata": {},
     "output_type": "execute_result"
    }
   ],
   "source": [
    "conn.execute('CREATE INDEX IF NOT EXISTS sourceSpTaxonNameIndex ON globirefutes(sourceTaxonSpeciesName)')"
   ]
  },
  {
   "cell_type": "code",
   "execution_count": 33,
   "metadata": {},
   "outputs": [
    {
     "data": {
      "text/plain": [
       "<sqlite3.Cursor at 0x175aaa9a6c0>"
      ]
     },
     "execution_count": 33,
     "metadata": {},
     "output_type": "execute_result"
    }
   ],
   "source": [
    "conn.execute('CREATE INDEX IF NOT EXISTS targetSpTaxonNameIndex ON globirefutes(targetTaxonSpeciesName)')"
   ]
  },
  {
   "cell_type": "code",
   "execution_count": 34,
   "metadata": {},
   "outputs": [
    {
     "data": {
      "text/plain": [
       "<sqlite3.Cursor at 0x175aaa9a810>"
      ]
     },
     "execution_count": 34,
     "metadata": {},
     "output_type": "execute_result"
    }
   ],
   "source": [
    "conn.execute('CREATE INDEX IF NOT EXISTS sourceTargetSpTaxonNameIndex ON globirefutes(sourceTaxonSpeciesName,targetTaxonSpeciesName)')"
   ]
  },
  {
   "cell_type": "code",
   "execution_count": 35,
   "metadata": {},
   "outputs": [
    {
     "data": {
      "text/plain": [
       "<sqlite3.Cursor at 0x175aaa61dc0>"
      ]
     },
     "execution_count": 35,
     "metadata": {},
     "output_type": "execute_result"
    }
   ],
   "source": [
    "conn.execute('CREATE INDEX IF NOT EXISTS sourceTargetSpTaxonNameIndex ON globirefutes(sourceTaxonSpeciesName,targetTaxonSpeciesName)')"
   ]
  },
  {
   "cell_type": "code",
   "execution_count": 36,
   "metadata": {},
   "outputs": [
    {
     "data": {
      "text/plain": [
       "<sqlite3.Cursor at 0x175aaa61f80>"
      ]
     },
     "execution_count": 36,
     "metadata": {},
     "output_type": "execute_result"
    }
   ],
   "source": [
    "conn.execute('CREATE INDEX IF NOT EXISTS sourceTargetSpTaxonNameIndex ON globirefutes(sourceTaxonSpeciesName,targetTaxonSpeciesName,interactionTypeName)')"
   ]
  },
  {
   "cell_type": "markdown",
   "metadata": {},
   "source": [
    "## Run a quick check to make sure the indexes work as expected."
   ]
  },
  {
   "cell_type": "code",
   "execution_count": null,
   "metadata": {},
   "outputs": [],
   "source": [
    "pd.read_sql_query('EXPLAIN QUERY PLAN SELECT sourceTaxonName FROM globi WHERE interactionTypeName = \"visitsFlowersOf\"', conn)"
   ]
  },
  {
   "cell_type": "markdown",
   "metadata": {},
   "source": [
    "## Removing any interactions that have been refuted"
   ]
  },
  {
   "cell_type": "code",
   "execution_count": 44,
   "metadata": {},
   "outputs": [],
   "source": [
    "conn.execute(' \\\n",
    "    DELETE FROM globi \\\n",
    "    WHERE EXISTS \\\n",
    "      ( SELECT *  \\\n",
    "        FROM globirefutes \\\n",
    "        WHERE globi.targetTaxonSpeciesName = globirefutes.targetTaxonSpeciesName \\\n",
    "            and globi.sourceTaxonSpeciesName = globirefutes.sourceTaxonSpeciesName \\\n",
    "            and globi.interactionTypeName = globirefutes.interactionTypeName)')\n",
    "conn.commit()  \n",
    "             \n",
    "             "
   ]
  },
  {
   "cell_type": "markdown",
   "metadata": {},
   "source": [
    "## Check if something is in the database"
   ]
  },
  {
   "cell_type": "code",
   "execution_count": 45,
   "metadata": {
    "scrolled": true
   },
   "outputs": [
    {
     "data": {
      "text/html": [
       "<div>\n",
       "<style scoped>\n",
       "    .dataframe tbody tr th:only-of-type {\n",
       "        vertical-align: middle;\n",
       "    }\n",
       "\n",
       "    .dataframe tbody tr th {\n",
       "        vertical-align: top;\n",
       "    }\n",
       "\n",
       "    .dataframe thead th {\n",
       "        text-align: right;\n",
       "    }\n",
       "</style>\n",
       "<table border=\"1\" class=\"dataframe\">\n",
       "  <thead>\n",
       "    <tr style=\"text-align: right;\">\n",
       "      <th></th>\n",
       "      <th>sourceTaxonId</th>\n",
       "      <th>sourceTaxonIds</th>\n",
       "      <th>sourceTaxonName</th>\n",
       "      <th>sourceTaxonRank</th>\n",
       "      <th>sourceTaxonPathNames</th>\n",
       "      <th>sourceTaxonPathIds</th>\n",
       "      <th>sourceTaxonPathRankNames</th>\n",
       "      <th>sourceTaxonSpeciesName</th>\n",
       "      <th>sourceTaxonSpeciesId</th>\n",
       "      <th>sourceTaxonGenusName</th>\n",
       "      <th>...</th>\n",
       "      <th>eventDateUnixEpoch</th>\n",
       "      <th>argumentTypeId</th>\n",
       "      <th>referenceCitation</th>\n",
       "      <th>referenceDoi</th>\n",
       "      <th>referenceUrl</th>\n",
       "      <th>sourceCitation</th>\n",
       "      <th>sourceNamespace</th>\n",
       "      <th>sourceArchiveURI</th>\n",
       "      <th>sourceDOI</th>\n",
       "      <th>sourceLastSeenAtUnixEpoch</th>\n",
       "    </tr>\n",
       "  </thead>\n",
       "  <tbody>\n",
       "    <tr>\n",
       "      <th>0</th>\n",
       "      <td>FBC:FB:SpecCode:126</td>\n",
       "      <td>EOL_V2:2804347 | FBC:FB:SpecCode:126 | GBIF:23...</td>\n",
       "      <td>Scomberomorus maculatus</td>\n",
       "      <td>species</td>\n",
       "      <td>Actinopterygii | Perciformes | Scombridae | Sc...</td>\n",
       "      <td></td>\n",
       "      <td>class | order | family | genus | species</td>\n",
       "      <td>Scomberomorus maculatus</td>\n",
       "      <td></td>\n",
       "      <td>Scomberomorus</td>\n",
       "      <td>...</td>\n",
       "      <td>368175600000</td>\n",
       "      <td>https://en.wiktionary.org/wiki/support</td>\n",
       "      <td>Carl Saloman, Steven Naughton. 1983. Food of S...</td>\n",
       "      <td></td>\n",
       "      <td></td>\n",
       "      <td>http://gomexsi.tamucc.edu</td>\n",
       "      <td>GoMexSI/abascal</td>\n",
       "      <td>https://github.com/GoMexSI/abascal/archive/d2b...</td>\n",
       "      <td></td>\n",
       "      <td>2020-06-16T02:47:56.442Z\\n</td>\n",
       "    </tr>\n",
       "    <tr>\n",
       "      <th>1</th>\n",
       "      <td>FBC:FB:SpecCode:126</td>\n",
       "      <td>EOL_V2:2804347 | FBC:FB:SpecCode:126 | GBIF:23...</td>\n",
       "      <td>Scomberomorus maculatus</td>\n",
       "      <td>species</td>\n",
       "      <td>Actinopterygii | Perciformes | Scombridae | Sc...</td>\n",
       "      <td></td>\n",
       "      <td>class | order | family | genus | species</td>\n",
       "      <td>Scomberomorus maculatus</td>\n",
       "      <td></td>\n",
       "      <td>Scomberomorus</td>\n",
       "      <td>...</td>\n",
       "      <td>368175600000</td>\n",
       "      <td>https://en.wiktionary.org/wiki/support</td>\n",
       "      <td>Carl Saloman, Steven Naughton. 1983. Food of S...</td>\n",
       "      <td></td>\n",
       "      <td></td>\n",
       "      <td>http://gomexsi.tamucc.edu</td>\n",
       "      <td>GoMexSI/abascal</td>\n",
       "      <td>https://github.com/GoMexSI/abascal/archive/d2b...</td>\n",
       "      <td></td>\n",
       "      <td>2020-06-16T02:47:56.442Z\\n</td>\n",
       "    </tr>\n",
       "    <tr>\n",
       "      <th>2</th>\n",
       "      <td>FBC:FB:SpecCode:126</td>\n",
       "      <td>EOL_V2:2804347 | FBC:FB:SpecCode:126 | GBIF:23...</td>\n",
       "      <td>Scomberomorus maculatus</td>\n",
       "      <td>species</td>\n",
       "      <td>Actinopterygii | Perciformes | Scombridae | Sc...</td>\n",
       "      <td></td>\n",
       "      <td>class | order | family | genus | species</td>\n",
       "      <td>Scomberomorus maculatus</td>\n",
       "      <td></td>\n",
       "      <td>Scomberomorus</td>\n",
       "      <td>...</td>\n",
       "      <td>368175600000</td>\n",
       "      <td>https://en.wiktionary.org/wiki/support</td>\n",
       "      <td>Carl Saloman, Steven Naughton. 1983. Food of S...</td>\n",
       "      <td></td>\n",
       "      <td></td>\n",
       "      <td>http://gomexsi.tamucc.edu</td>\n",
       "      <td>GoMexSI/abascal</td>\n",
       "      <td>https://github.com/GoMexSI/abascal/archive/d2b...</td>\n",
       "      <td></td>\n",
       "      <td>2020-06-16T02:47:56.442Z\\n</td>\n",
       "    </tr>\n",
       "    <tr>\n",
       "      <th>3</th>\n",
       "      <td>FBC:FB:SpecCode:126</td>\n",
       "      <td>EOL_V2:2804347 | FBC:FB:SpecCode:126 | GBIF:23...</td>\n",
       "      <td>Scomberomorus maculatus</td>\n",
       "      <td>species</td>\n",
       "      <td>Actinopterygii | Perciformes | Scombridae | Sc...</td>\n",
       "      <td></td>\n",
       "      <td>class | order | family | genus | species</td>\n",
       "      <td>Scomberomorus maculatus</td>\n",
       "      <td></td>\n",
       "      <td>Scomberomorus</td>\n",
       "      <td>...</td>\n",
       "      <td>368175600000</td>\n",
       "      <td>https://en.wiktionary.org/wiki/support</td>\n",
       "      <td>Carl Saloman, Steven Naughton. 1983. Food of S...</td>\n",
       "      <td></td>\n",
       "      <td></td>\n",
       "      <td>http://gomexsi.tamucc.edu</td>\n",
       "      <td>GoMexSI/abascal</td>\n",
       "      <td>https://github.com/GoMexSI/abascal/archive/d2b...</td>\n",
       "      <td></td>\n",
       "      <td>2020-06-16T02:47:56.442Z\\n</td>\n",
       "    </tr>\n",
       "    <tr>\n",
       "      <th>4</th>\n",
       "      <td>FBC:FB:SpecCode:126</td>\n",
       "      <td>EOL_V2:2804347 | FBC:FB:SpecCode:126 | GBIF:23...</td>\n",
       "      <td>Scomberomorus maculatus</td>\n",
       "      <td>species</td>\n",
       "      <td>Actinopterygii | Perciformes | Scombridae | Sc...</td>\n",
       "      <td></td>\n",
       "      <td>class | order | family | genus | species</td>\n",
       "      <td>Scomberomorus maculatus</td>\n",
       "      <td></td>\n",
       "      <td>Scomberomorus</td>\n",
       "      <td>...</td>\n",
       "      <td>368175600000</td>\n",
       "      <td>https://en.wiktionary.org/wiki/support</td>\n",
       "      <td>Carl Saloman, Steven Naughton. 1983. Food of S...</td>\n",
       "      <td></td>\n",
       "      <td></td>\n",
       "      <td>http://gomexsi.tamucc.edu</td>\n",
       "      <td>GoMexSI/abascal</td>\n",
       "      <td>https://github.com/GoMexSI/abascal/archive/d2b...</td>\n",
       "      <td></td>\n",
       "      <td>2020-06-16T02:47:56.442Z\\n</td>\n",
       "    </tr>\n",
       "  </tbody>\n",
       "</table>\n",
       "<p>5 rows × 84 columns</p>\n",
       "</div>"
      ],
      "text/plain": [
       "         sourceTaxonId                                     sourceTaxonIds  \\\n",
       "0  FBC:FB:SpecCode:126  EOL_V2:2804347 | FBC:FB:SpecCode:126 | GBIF:23...   \n",
       "1  FBC:FB:SpecCode:126  EOL_V2:2804347 | FBC:FB:SpecCode:126 | GBIF:23...   \n",
       "2  FBC:FB:SpecCode:126  EOL_V2:2804347 | FBC:FB:SpecCode:126 | GBIF:23...   \n",
       "3  FBC:FB:SpecCode:126  EOL_V2:2804347 | FBC:FB:SpecCode:126 | GBIF:23...   \n",
       "4  FBC:FB:SpecCode:126  EOL_V2:2804347 | FBC:FB:SpecCode:126 | GBIF:23...   \n",
       "\n",
       "           sourceTaxonName sourceTaxonRank  \\\n",
       "0  Scomberomorus maculatus         species   \n",
       "1  Scomberomorus maculatus         species   \n",
       "2  Scomberomorus maculatus         species   \n",
       "3  Scomberomorus maculatus         species   \n",
       "4  Scomberomorus maculatus         species   \n",
       "\n",
       "                                sourceTaxonPathNames sourceTaxonPathIds  \\\n",
       "0  Actinopterygii | Perciformes | Scombridae | Sc...                      \n",
       "1  Actinopterygii | Perciformes | Scombridae | Sc...                      \n",
       "2  Actinopterygii | Perciformes | Scombridae | Sc...                      \n",
       "3  Actinopterygii | Perciformes | Scombridae | Sc...                      \n",
       "4  Actinopterygii | Perciformes | Scombridae | Sc...                      \n",
       "\n",
       "                   sourceTaxonPathRankNames   sourceTaxonSpeciesName  \\\n",
       "0  class | order | family | genus | species  Scomberomorus maculatus   \n",
       "1  class | order | family | genus | species  Scomberomorus maculatus   \n",
       "2  class | order | family | genus | species  Scomberomorus maculatus   \n",
       "3  class | order | family | genus | species  Scomberomorus maculatus   \n",
       "4  class | order | family | genus | species  Scomberomorus maculatus   \n",
       "\n",
       "  sourceTaxonSpeciesId sourceTaxonGenusName  ... eventDateUnixEpoch  \\\n",
       "0                             Scomberomorus  ...       368175600000   \n",
       "1                             Scomberomorus  ...       368175600000   \n",
       "2                             Scomberomorus  ...       368175600000   \n",
       "3                             Scomberomorus  ...       368175600000   \n",
       "4                             Scomberomorus  ...       368175600000   \n",
       "\n",
       "                           argumentTypeId  \\\n",
       "0  https://en.wiktionary.org/wiki/support   \n",
       "1  https://en.wiktionary.org/wiki/support   \n",
       "2  https://en.wiktionary.org/wiki/support   \n",
       "3  https://en.wiktionary.org/wiki/support   \n",
       "4  https://en.wiktionary.org/wiki/support   \n",
       "\n",
       "                                   referenceCitation referenceDoi  \\\n",
       "0  Carl Saloman, Steven Naughton. 1983. Food of S...                \n",
       "1  Carl Saloman, Steven Naughton. 1983. Food of S...                \n",
       "2  Carl Saloman, Steven Naughton. 1983. Food of S...                \n",
       "3  Carl Saloman, Steven Naughton. 1983. Food of S...                \n",
       "4  Carl Saloman, Steven Naughton. 1983. Food of S...                \n",
       "\n",
       "  referenceUrl             sourceCitation  sourceNamespace  \\\n",
       "0               http://gomexsi.tamucc.edu  GoMexSI/abascal   \n",
       "1               http://gomexsi.tamucc.edu  GoMexSI/abascal   \n",
       "2               http://gomexsi.tamucc.edu  GoMexSI/abascal   \n",
       "3               http://gomexsi.tamucc.edu  GoMexSI/abascal   \n",
       "4               http://gomexsi.tamucc.edu  GoMexSI/abascal   \n",
       "\n",
       "                                    sourceArchiveURI sourceDOI  \\\n",
       "0  https://github.com/GoMexSI/abascal/archive/d2b...             \n",
       "1  https://github.com/GoMexSI/abascal/archive/d2b...             \n",
       "2  https://github.com/GoMexSI/abascal/archive/d2b...             \n",
       "3  https://github.com/GoMexSI/abascal/archive/d2b...             \n",
       "4  https://github.com/GoMexSI/abascal/archive/d2b...             \n",
       "\n",
       "    sourceLastSeenAtUnixEpoch  \n",
       "0  2020-06-16T02:47:56.442Z\\n  \n",
       "1  2020-06-16T02:47:56.442Z\\n  \n",
       "2  2020-06-16T02:47:56.442Z\\n  \n",
       "3  2020-06-16T02:47:56.442Z\\n  \n",
       "4  2020-06-16T02:47:56.442Z\\n  \n",
       "\n",
       "[5 rows x 84 columns]"
      ]
     },
     "execution_count": 45,
     "metadata": {},
     "output_type": "execute_result"
    }
   ],
   "source": [
    "#dups = pd.read_sql_query('SELECT sourceTaxonRank FROM globi GROUP BY sourceTaxonRank', conn)\n",
    "select = pd.read_sql_query('SELECT * FROM globi LIMIT 5', conn)\n",
    "select"
   ]
  },
  {
   "cell_type": "code",
   "execution_count": 46,
   "metadata": {},
   "outputs": [],
   "source": [
    "select = pd.read_sql_query('SELECT sourceTaxonName from globi where targetTaxonName = \"Prunus serotina\"', conn)"
   ]
  },
  {
   "cell_type": "code",
   "execution_count": 47,
   "metadata": {},
   "outputs": [
    {
     "data": {
      "text/html": [
       "<div>\n",
       "<style scoped>\n",
       "    .dataframe tbody tr th:only-of-type {\n",
       "        vertical-align: middle;\n",
       "    }\n",
       "\n",
       "    .dataframe tbody tr th {\n",
       "        vertical-align: top;\n",
       "    }\n",
       "\n",
       "    .dataframe thead th {\n",
       "        text-align: right;\n",
       "    }\n",
       "</style>\n",
       "<table border=\"1\" class=\"dataframe\">\n",
       "  <thead>\n",
       "    <tr style=\"text-align: right;\">\n",
       "      <th></th>\n",
       "      <th>sourceTaxonName</th>\n",
       "    </tr>\n",
       "  </thead>\n",
       "  <tbody>\n",
       "    <tr>\n",
       "      <th>0</th>\n",
       "      <td>Acari</td>\n",
       "    </tr>\n",
       "    <tr>\n",
       "      <th>1</th>\n",
       "      <td>Acari</td>\n",
       "    </tr>\n",
       "    <tr>\n",
       "      <th>2</th>\n",
       "      <td>Acari</td>\n",
       "    </tr>\n",
       "    <tr>\n",
       "      <th>3</th>\n",
       "      <td>Acari</td>\n",
       "    </tr>\n",
       "    <tr>\n",
       "      <th>4</th>\n",
       "      <td>Acari</td>\n",
       "    </tr>\n",
       "    <tr>\n",
       "      <th>5</th>\n",
       "      <td>Acari</td>\n",
       "    </tr>\n",
       "    <tr>\n",
       "      <th>6</th>\n",
       "      <td>Acari</td>\n",
       "    </tr>\n",
       "    <tr>\n",
       "      <th>7</th>\n",
       "      <td>Acari</td>\n",
       "    </tr>\n",
       "    <tr>\n",
       "      <th>8</th>\n",
       "      <td>Acari</td>\n",
       "    </tr>\n",
       "    <tr>\n",
       "      <th>9</th>\n",
       "      <td>Acari</td>\n",
       "    </tr>\n",
       "    <tr>\n",
       "      <th>10</th>\n",
       "      <td>Acari</td>\n",
       "    </tr>\n",
       "    <tr>\n",
       "      <th>11</th>\n",
       "      <td>Acari</td>\n",
       "    </tr>\n",
       "    <tr>\n",
       "      <th>12</th>\n",
       "      <td>Acari</td>\n",
       "    </tr>\n",
       "    <tr>\n",
       "      <th>13</th>\n",
       "      <td>Acari</td>\n",
       "    </tr>\n",
       "    <tr>\n",
       "      <th>14</th>\n",
       "      <td>Acari</td>\n",
       "    </tr>\n",
       "    <tr>\n",
       "      <th>15</th>\n",
       "      <td>Acari</td>\n",
       "    </tr>\n",
       "    <tr>\n",
       "      <th>16</th>\n",
       "      <td>Acari</td>\n",
       "    </tr>\n",
       "    <tr>\n",
       "      <th>17</th>\n",
       "      <td>Acari</td>\n",
       "    </tr>\n",
       "    <tr>\n",
       "      <th>18</th>\n",
       "      <td>Acari</td>\n",
       "    </tr>\n",
       "    <tr>\n",
       "      <th>19</th>\n",
       "      <td>Acari</td>\n",
       "    </tr>\n",
       "    <tr>\n",
       "      <th>20</th>\n",
       "      <td>Acari</td>\n",
       "    </tr>\n",
       "    <tr>\n",
       "      <th>21</th>\n",
       "      <td>Acari</td>\n",
       "    </tr>\n",
       "    <tr>\n",
       "      <th>22</th>\n",
       "      <td>Acari</td>\n",
       "    </tr>\n",
       "    <tr>\n",
       "      <th>23</th>\n",
       "      <td>Acari</td>\n",
       "    </tr>\n",
       "    <tr>\n",
       "      <th>24</th>\n",
       "      <td>Acari</td>\n",
       "    </tr>\n",
       "    <tr>\n",
       "      <th>25</th>\n",
       "      <td>Acari</td>\n",
       "    </tr>\n",
       "    <tr>\n",
       "      <th>26</th>\n",
       "      <td>Acari</td>\n",
       "    </tr>\n",
       "    <tr>\n",
       "      <th>27</th>\n",
       "      <td>Acari</td>\n",
       "    </tr>\n",
       "    <tr>\n",
       "      <th>28</th>\n",
       "      <td>Acari</td>\n",
       "    </tr>\n",
       "    <tr>\n",
       "      <th>29</th>\n",
       "      <td>Acari</td>\n",
       "    </tr>\n",
       "    <tr>\n",
       "      <th>...</th>\n",
       "      <td>...</td>\n",
       "    </tr>\n",
       "    <tr>\n",
       "      <th>1480</th>\n",
       "      <td>Turdus philomelos</td>\n",
       "    </tr>\n",
       "    <tr>\n",
       "      <th>1481</th>\n",
       "      <td>Turdus philomelos</td>\n",
       "    </tr>\n",
       "    <tr>\n",
       "      <th>1482</th>\n",
       "      <td>Tyrannus tyrannus</td>\n",
       "    </tr>\n",
       "    <tr>\n",
       "      <th>1483</th>\n",
       "      <td>Tyrannus tyrannus</td>\n",
       "    </tr>\n",
       "    <tr>\n",
       "      <th>1484</th>\n",
       "      <td>Tyrannus tyrannus</td>\n",
       "    </tr>\n",
       "    <tr>\n",
       "      <th>1485</th>\n",
       "      <td>Tyrannus tyrannus</td>\n",
       "    </tr>\n",
       "    <tr>\n",
       "      <th>1486</th>\n",
       "      <td>Tyrannus tyrannus</td>\n",
       "    </tr>\n",
       "    <tr>\n",
       "      <th>1487</th>\n",
       "      <td>Tyrannus tyrannus</td>\n",
       "    </tr>\n",
       "    <tr>\n",
       "      <th>1488</th>\n",
       "      <td>Tyrannus tyrannus</td>\n",
       "    </tr>\n",
       "    <tr>\n",
       "      <th>1489</th>\n",
       "      <td>Ulmus thomasii</td>\n",
       "    </tr>\n",
       "    <tr>\n",
       "      <th>1490</th>\n",
       "      <td>Ulmus thomasii</td>\n",
       "    </tr>\n",
       "    <tr>\n",
       "      <th>1491</th>\n",
       "      <td>Ulmus thomasii</td>\n",
       "    </tr>\n",
       "    <tr>\n",
       "      <th>1492</th>\n",
       "      <td>Vanessa virginiensis</td>\n",
       "    </tr>\n",
       "    <tr>\n",
       "      <th>1493</th>\n",
       "      <td>Vanessa virginiensis</td>\n",
       "    </tr>\n",
       "    <tr>\n",
       "      <th>1494</th>\n",
       "      <td>Vanessa virginiensis</td>\n",
       "    </tr>\n",
       "    <tr>\n",
       "      <th>1495</th>\n",
       "      <td>Vespula</td>\n",
       "    </tr>\n",
       "    <tr>\n",
       "      <th>1496</th>\n",
       "      <td>Vespula maculifrons</td>\n",
       "    </tr>\n",
       "    <tr>\n",
       "      <th>1497</th>\n",
       "      <td>Vireo olivaceus</td>\n",
       "    </tr>\n",
       "    <tr>\n",
       "      <th>1498</th>\n",
       "      <td>Vireo olivaceus</td>\n",
       "    </tr>\n",
       "    <tr>\n",
       "      <th>1499</th>\n",
       "      <td>Vireo olivaceus</td>\n",
       "    </tr>\n",
       "    <tr>\n",
       "      <th>1500</th>\n",
       "      <td>Vireo olivaceus</td>\n",
       "    </tr>\n",
       "    <tr>\n",
       "      <th>1501</th>\n",
       "      <td>Vireo olivaceus</td>\n",
       "    </tr>\n",
       "    <tr>\n",
       "      <th>1502</th>\n",
       "      <td>Vireo olivaceus</td>\n",
       "    </tr>\n",
       "    <tr>\n",
       "      <th>1503</th>\n",
       "      <td>Vulpes vulpes</td>\n",
       "    </tr>\n",
       "    <tr>\n",
       "      <th>1504</th>\n",
       "      <td>Xylophagus lugens</td>\n",
       "    </tr>\n",
       "    <tr>\n",
       "      <th>1505</th>\n",
       "      <td>Zelus luridus</td>\n",
       "    </tr>\n",
       "    <tr>\n",
       "      <th>1506</th>\n",
       "      <td>Zelus luridus</td>\n",
       "    </tr>\n",
       "    <tr>\n",
       "      <th>1507</th>\n",
       "      <td>no name</td>\n",
       "    </tr>\n",
       "    <tr>\n",
       "      <th>1508</th>\n",
       "      <td>no name</td>\n",
       "    </tr>\n",
       "    <tr>\n",
       "      <th>1509</th>\n",
       "      <td>no name</td>\n",
       "    </tr>\n",
       "  </tbody>\n",
       "</table>\n",
       "<p>1510 rows × 1 columns</p>\n",
       "</div>"
      ],
      "text/plain": [
       "           sourceTaxonName\n",
       "0                    Acari\n",
       "1                    Acari\n",
       "2                    Acari\n",
       "3                    Acari\n",
       "4                    Acari\n",
       "5                    Acari\n",
       "6                    Acari\n",
       "7                    Acari\n",
       "8                    Acari\n",
       "9                    Acari\n",
       "10                   Acari\n",
       "11                   Acari\n",
       "12                   Acari\n",
       "13                   Acari\n",
       "14                   Acari\n",
       "15                   Acari\n",
       "16                   Acari\n",
       "17                   Acari\n",
       "18                   Acari\n",
       "19                   Acari\n",
       "20                   Acari\n",
       "21                   Acari\n",
       "22                   Acari\n",
       "23                   Acari\n",
       "24                   Acari\n",
       "25                   Acari\n",
       "26                   Acari\n",
       "27                   Acari\n",
       "28                   Acari\n",
       "29                   Acari\n",
       "...                    ...\n",
       "1480     Turdus philomelos\n",
       "1481     Turdus philomelos\n",
       "1482     Tyrannus tyrannus\n",
       "1483     Tyrannus tyrannus\n",
       "1484     Tyrannus tyrannus\n",
       "1485     Tyrannus tyrannus\n",
       "1486     Tyrannus tyrannus\n",
       "1487     Tyrannus tyrannus\n",
       "1488     Tyrannus tyrannus\n",
       "1489        Ulmus thomasii\n",
       "1490        Ulmus thomasii\n",
       "1491        Ulmus thomasii\n",
       "1492  Vanessa virginiensis\n",
       "1493  Vanessa virginiensis\n",
       "1494  Vanessa virginiensis\n",
       "1495               Vespula\n",
       "1496   Vespula maculifrons\n",
       "1497       Vireo olivaceus\n",
       "1498       Vireo olivaceus\n",
       "1499       Vireo olivaceus\n",
       "1500       Vireo olivaceus\n",
       "1501       Vireo olivaceus\n",
       "1502       Vireo olivaceus\n",
       "1503         Vulpes vulpes\n",
       "1504     Xylophagus lugens\n",
       "1505         Zelus luridus\n",
       "1506         Zelus luridus\n",
       "1507               no name\n",
       "1508               no name\n",
       "1509               no name\n",
       "\n",
       "[1510 rows x 1 columns]"
      ]
     },
     "execution_count": 47,
     "metadata": {},
     "output_type": "execute_result"
    }
   ],
   "source": [
    "select"
   ]
  },
  {
   "cell_type": "code",
   "execution_count": 48,
   "metadata": {},
   "outputs": [],
   "source": [
    "conn.close()"
   ]
  },
  {
   "cell_type": "code",
   "execution_count": null,
   "metadata": {},
   "outputs": [],
   "source": []
  }
 ],
 "metadata": {
  "kernelspec": {
   "display_name": "Python 3",
   "language": "python",
   "name": "python3"
  },
  "language_info": {
   "codemirror_mode": {
    "name": "ipython",
    "version": 3
   },
   "file_extension": ".py",
   "mimetype": "text/x-python",
   "name": "python",
   "nbconvert_exporter": "python",
   "pygments_lexer": "ipython3",
   "version": "3.7.3"
  }
 },
 "nbformat": 4,
 "nbformat_minor": 2
}
