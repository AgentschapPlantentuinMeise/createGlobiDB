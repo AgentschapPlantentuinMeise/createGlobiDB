{
 "cells": [
  {
   "cell_type": "raw",
   "metadata": {},
   "source": [
    "# Create the file globi.db\n",
    "\n",
    "To speed up the processing of data from GLOBI it is better to use it as a SQLITE database"
   ]
  },
  {
   "cell_type": "code",
   "execution_count": 1,
   "metadata": {},
   "outputs": [
    {
     "name": "stdout",
     "output_type": "stream",
     "text": [
      "3.7.3 (default, Mar 27 2019, 17:13:21) [MSC v.1915 64 bit (AMD64)]\n"
     ]
    }
   ],
   "source": [
    "import pandas as pd\n",
    "import sys\n",
    "print(sys.version)\n",
    "\n",
    "#Python 3.7.4 (default, Aug 9 2019, 18:34:13) [MSC v.1915 64 bit (AMD64)]\n",
    "#pygbif 0.3.0"
   ]
  },
  {
   "cell_type": "markdown",
   "metadata": {},
   "source": [
    "## Create a SQLite database with APSW"
   ]
  },
  {
   "cell_type": "code",
   "execution_count": 2,
   "metadata": {},
   "outputs": [],
   "source": [
    "import sqlite3\n",
    "from sqlite3 import Error"
   ]
  },
  {
   "cell_type": "code",
   "execution_count": 3,
   "metadata": {},
   "outputs": [],
   "source": [
    "database = r\"globi.db\"\n",
    "try:\n",
    "    conn = sqlite3.connect(database)\n",
    "except Error as e:\n",
    "    print(e)"
   ]
  },
  {
   "cell_type": "code",
   "execution_count": 4,
   "metadata": {},
   "outputs": [],
   "source": [
    "\n",
    " \n",
    "sql_create_globi_table = \"\"\" CREATE TABLE IF NOT EXISTS globi (\n",
    "                                                            sourceTaxonId,\n",
    "                                                            sourceTaxonIds,\n",
    "                                                            sourceTaxonName,\n",
    "                                                            sourceTaxonRank,\n",
    "                                                            sourceTaxonPathNames,\n",
    "                                                            sourceTaxonPathIds,\n",
    "                                                            sourceTaxonPathRankNames,\n",
    "                                                            sourceTaxonSpeciesName,\n",
    "                                                            sourceTaxonSpeciesId,\n",
    "                                                            sourceTaxonGenusName,\n",
    "                                                            sourceTaxonGenusId,\n",
    "                                                            sourceTaxonFamilyName,\n",
    "                                                            sourceTaxonFamilyId,\n",
    "                                                            sourceTaxonOrderName,\n",
    "                                                            sourceTaxonOrderId,\n",
    "                                                            sourceTaxonClassName,\n",
    "                                                            sourceTaxonClassId,\n",
    "                                                            sourceTaxonPhylumName,\n",
    "                                                            sourceTaxonPhylumId,\n",
    "                                                            sourceTaxonKingdomName,\n",
    "                                                            sourceTaxonKingdomId,\n",
    "                                                            sourceId,\n",
    "                                                            sourceOccurrenceId,\n",
    "                                                            sourceCatalogNumber,\n",
    "                                                            sourceBasisOfRecordId,\n",
    "                                                            sourceBasisOfRecordName,\n",
    "                                                            sourceLifeStageId,\n",
    "                                                            sourceLifeStageName,\n",
    "                                                            sourceBodyPartId,\n",
    "                                                            sourceBodyPartName,\n",
    "                                                            sourcePhysiologicalStateId,\n",
    "                                                            sourcePhysiologicalStateName,\n",
    "                                                            sourceSexId,\n",
    "                                                            sourceSexName,\n",
    "                                                            interactionTypeName,\n",
    "                                                            interactionTypeId,\n",
    "                                                            targetTaxonId,\n",
    "                                                            targetTaxonIds,\n",
    "                                                            targetTaxonName,\n",
    "                                                            targetTaxonRank,\n",
    "                                                            targetTaxonPathNames,\n",
    "                                                            targetTaxonPathIds,\n",
    "                                                            targetTaxonPathRankNames,\n",
    "                                                            targetTaxonSpeciesName,\n",
    "                                                            targetTaxonSpeciesId,\n",
    "                                                            targetTaxonGenusName,\n",
    "                                                            targetTaxonGenusId,\n",
    "                                                            targetTaxonFamilyName,\n",
    "                                                            targetTaxonFamilyId,\n",
    "                                                            targetTaxonOrderName,\n",
    "                                                            targetTaxonOrderId,\n",
    "                                                            targetTaxonClassName,\n",
    "                                                            targetTaxonClassId,\n",
    "                                                            targetTaxonPhylumName,\n",
    "                                                            targetTaxonPhylumId,\n",
    "                                                            targetTaxonKingdomName,\n",
    "                                                            targetTaxonKingdomId,\n",
    "                                                            targetId,\n",
    "                                                            targetOccurrenceId,\n",
    "                                                            targetCatalogNumber,\n",
    "                                                            targetBasisOfRecordId,\n",
    "                                                            targetBasisOfRecordName,\n",
    "                                                            targetLifeStageId,\n",
    "                                                            targetLifeStageName,\n",
    "                                                            targetBodyPartId,\n",
    "                                                            targetBodyPartName,\n",
    "                                                            targetPhysiologicalStateId,\n",
    "                                                            targetPhysiologicalStateName,\n",
    "                                                            targetSexId,\n",
    "                                                            targetSexName,\n",
    "                                                            decimalLatitude,\n",
    "                                                            decimalLongitude,\n",
    "                                                            localityId,\n",
    "                                                            localityName,\n",
    "                                                            eventDateUnixEpoch,\n",
    "                                                            argumentTypeId,\n",
    "                                                            referenceCitation,\n",
    "                                                            referenceDoi,\n",
    "                                                            referenceUrl,\n",
    "                                                            sourceCitation,\n",
    "                                                            sourceNamespace,\n",
    "                                                            sourceArchiveURI,\n",
    "                                                            sourceDOI,\n",
    "                                                            sourceLastSeenAtUnixEpoch\n",
    "                                                        ); \"\"\""
   ]
  },
  {
   "cell_type": "code",
   "execution_count": 5,
   "metadata": {},
   "outputs": [],
   "source": [
    "# create table\n",
    "try:\n",
    "    conn.execute(sql_create_globi_table)\n",
    "except Error as e:\n",
    "    print(e)"
   ]
  },
  {
   "cell_type": "markdown",
   "metadata": {},
   "source": [
    "## Clear down the table before filling it up again"
   ]
  },
  {
   "cell_type": "code",
   "execution_count": 6,
   "metadata": {
    "scrolled": true
   },
   "outputs": [
    {
     "data": {
      "text/plain": [
       "<sqlite3.Cursor at 0x225d4a4b880>"
      ]
     },
     "execution_count": 6,
     "metadata": {},
     "output_type": "execute_result"
    }
   ],
   "source": [
    "conn.execute('DELETE FROM globi')"
   ]
  },
  {
   "cell_type": "markdown",
   "metadata": {},
   "source": [
    "## Load the table"
   ]
  },
  {
   "cell_type": "code",
   "execution_count": 7,
   "metadata": {
    "scrolled": true
   },
   "outputs": [],
   "source": [
    "with open(r\"interactions.tsv\", \"r\", encoding='utf-8') as f:        \n",
    "    rows = f.readlines()\n",
    "    for row in rows:\n",
    "        fields = row.split('\\t')\n",
    "        conn.execute(\"\"\"INSERT INTO globi (sourceTaxonId, sourceTaxonIds, sourceTaxonName, sourceTaxonRank, \\\n",
    "                                sourceTaxonPathNames, sourceTaxonPathIds, sourceTaxonPathRankNames, sourceTaxonSpeciesName, \\\n",
    "                                sourceTaxonSpeciesId, sourceTaxonGenusName, sourceTaxonGenusId, sourceTaxonFamilyName, \\\n",
    "                                sourceTaxonFamilyId, sourceTaxonOrderName, sourceTaxonOrderId, sourceTaxonClassName, \\\n",
    "                                sourceTaxonClassId, sourceTaxonPhylumName, sourceTaxonPhylumId, sourceTaxonKingdomName, \\\n",
    "                                sourceTaxonKingdomId, sourceId, sourceOccurrenceId, sourceCatalogNumber, sourceBasisOfRecordId, \\\n",
    "                                sourceBasisOfRecordName, sourceLifeStageId, sourceLifeStageName, sourceBodyPartId, \\\n",
    "                                sourceBodyPartName, sourcePhysiologicalStateId, sourcePhysiologicalStateName, \\\n",
    "                                sourceSexId, sourceSexName, \\\n",
    "                                interactionTypeName, interactionTypeId, targetTaxonId, targetTaxonIds, targetTaxonName, \\\n",
    "                                targetTaxonRank, targetTaxonPathNames, targetTaxonPathIds, targetTaxonPathRankNames, \\\n",
    "                                targetTaxonSpeciesName, targetTaxonSpeciesId, targetTaxonGenusName, targetTaxonGenusId, \\\n",
    "                                targetTaxonFamilyName, targetTaxonFamilyId, targetTaxonOrderName, targetTaxonOrderId, \\\n",
    "                                targetTaxonClassName, targetTaxonClassId, targetTaxonPhylumName, targetTaxonPhylumId, \\\n",
    "                                targetTaxonKingdomName, targetTaxonKingdomId, targetId, targetOccurrenceId, targetCatalogNumber, \\\n",
    "                                targetBasisOfRecordId, targetBasisOfRecordName, targetLifeStageId, targetLifeStageName, \\\n",
    "                                targetBodyPartId, targetBodyPartName, targetPhysiologicalStateId, targetPhysiologicalStateName, \\\n",
    "                                targetSexId, targetSexName, \\\n",
    "                                decimalLatitude, decimalLongitude, localityId, localityName, eventDateUnixEpoch, argumentTypeId, \\\n",
    "                                referenceCitation, referenceDoi, referenceUrl, sourceCitation, sourceNamespace, \\\n",
    "                                sourceArchiveURI, sourceDOI, sourceLastSeenAtUnixEpoch) \\\n",
    "                                VALUES(?,?,?,?,?,?,?,?,?,?,?,?,?,?,?,?,?,?,?,?,?,?,?,?,?,?,?,?,?,?,?,?,?,?,?,?,?,?,?,?,?,?,?,?,?,?,?,?,?,?,?,?,?,?,?,?,?,?,?,?,?,?,?,?,?,?,?,?,?,?,?,?,?,?,?,?,?,?,?,?,?,?,?,?)\"\"\", \\\n",
    "                                (fields[0],fields[1],fields[2],fields[3],fields[4], \\\n",
    "                                 fields[5],fields[6],fields[7],fields[8],fields[9], \\\n",
    "                                 fields[10],fields[11],fields[12],fields[13],fields[14], \\\n",
    "                                 fields[15],fields[16],fields[17],fields[18],fields[19], \\\n",
    "                                 fields[20],fields[21],fields[22],fields[23],fields[24], \\\n",
    "                                 fields[25],fields[26],fields[27],fields[28],fields[29], \\\n",
    "                                 fields[30],fields[31],fields[32],fields[33],fields[34], \\\n",
    "                                 fields[35],fields[36],fields[37],fields[38],fields[39], \\\n",
    "                                 fields[40],fields[41],fields[42],fields[43],fields[44], \\\n",
    "                                 fields[45],fields[46],fields[47],fields[48],fields[49], \\\n",
    "                                 fields[50],fields[51],fields[52],fields[53],fields[54], \\\n",
    "                                 fields[55],fields[56],fields[57],fields[58],fields[59], \\\n",
    "                                 fields[60],fields[61],fields[62],fields[63],fields[64], \\\n",
    "                                 fields[65],fields[66],fields[67],fields[68],fields[69], \\\n",
    "                                 fields[70],fields[71],fields[72],fields[73],fields[74], \\\n",
    "                                 fields[75],fields[76],fields[77],fields[78],fields[79], \\\n",
    "                                 fields[80],fields[81],fields[82],fields[83]))"
   ]
  },
  {
   "cell_type": "code",
   "execution_count": 8,
   "metadata": {},
   "outputs": [],
   "source": [
    "conn.commit()"
   ]
  },
  {
   "cell_type": "code",
   "execution_count": null,
   "metadata": {},
   "outputs": [],
   "source": [
    "#Get rid of circular references\n",
    "conn.execute('DELETE FROM globi WHERE sourceTaxonSpeciesName = targetTaxonSpeciesName')\n",
    "conn.commit()"
   ]
  },
  {
   "cell_type": "code",
   "execution_count": null,
   "metadata": {},
   "outputs": [],
   "source": [
    "# Remove irrational interations\n",
    "conn.execute('DELETE FROM globi WHERE sourceTaxonKingdomName = \"Plantae\" and interactionTypeName = \"visitsFlowerOf\";\n",
    "conn.commit()    \n",
    "conn.execute('DELETE FROM globi WHERE sourceTaxonKingdomName = \"Plantae\" and interactionTypeName = \"visits\";\n",
    "conn.commit()            \n",
    "conn.execute('DELETE FROM globi WHERE sourceTaxonKingdomName = \"Plantae\" and interactionTypeName = \"pollinates\";\n",
    "conn.commit()"
   ]
  },
  {
   "cell_type": "markdown",
   "metadata": {},
   "source": [
    "## Build some indexes to make queries faster"
   ]
  },
  {
   "cell_type": "code",
   "execution_count": 9,
   "metadata": {},
   "outputs": [],
   "source": [
    "#conn.execute('DROP INDEX sourceTaxonNameIndex')\n",
    "#conn.execute('DROP INDEX targetTaxonNameIndex')\n",
    "#conn.execute('DROP INDEX sourceAndInteractionTypeIndex')\n",
    "#conn.execute('DROP INDEX targetAndInteractionTypeIndex')\n",
    "#conn.execute('DROP INDEX sourceTaxonRankIndex')"
   ]
  },
  {
   "cell_type": "markdown",
   "metadata": {},
   "source": [
    "# Taxon indexes"
   ]
  },
  {
   "cell_type": "code",
   "execution_count": 10,
   "metadata": {},
   "outputs": [
    {
     "data": {
      "text/plain": [
       "<sqlite3.Cursor at 0x225d4a4b8f0>"
      ]
     },
     "execution_count": 10,
     "metadata": {},
     "output_type": "execute_result"
    }
   ],
   "source": [
    "conn.execute('CREATE INDEX IF NOT EXISTS sourceTaxonNameIndex ON globi(sourceTaxonName)')"
   ]
  },
  {
   "cell_type": "code",
   "execution_count": 11,
   "metadata": {},
   "outputs": [
    {
     "data": {
      "text/plain": [
       "<sqlite3.Cursor at 0x225d4a4bc00>"
      ]
     },
     "execution_count": 11,
     "metadata": {},
     "output_type": "execute_result"
    }
   ],
   "source": [
    "conn.execute('CREATE INDEX IF NOT EXISTS targetTaxonNameIndex ON globi(targetTaxonName)')"
   ]
  },
  {
   "cell_type": "code",
   "execution_count": 12,
   "metadata": {},
   "outputs": [
    {
     "data": {
      "text/plain": [
       "<sqlite3.Cursor at 0x225d4a4bdc0>"
      ]
     },
     "execution_count": 12,
     "metadata": {},
     "output_type": "execute_result"
    }
   ],
   "source": [
    "conn.execute('CREATE INDEX IF NOT EXISTS sourceAndInteractionTypeIndex ON globi(sourceTaxonName, interactionTypeName)')"
   ]
  },
  {
   "cell_type": "code",
   "execution_count": 13,
   "metadata": {},
   "outputs": [
    {
     "data": {
      "text/plain": [
       "<sqlite3.Cursor at 0x225d4a98110>"
      ]
     },
     "execution_count": 13,
     "metadata": {},
     "output_type": "execute_result"
    }
   ],
   "source": [
    "conn.execute('CREATE INDEX IF NOT EXISTS targetAndInteractionTypeIndex ON globi(targetTaxonName, interactionTypeName)')"
   ]
  },
  {
   "cell_type": "code",
   "execution_count": 14,
   "metadata": {},
   "outputs": [
    {
     "data": {
      "text/plain": [
       "<sqlite3.Cursor at 0x225d4a98260>"
      ]
     },
     "execution_count": 14,
     "metadata": {},
     "output_type": "execute_result"
    }
   ],
   "source": [
    "conn.execute('CREATE INDEX IF NOT EXISTS targetAndInteractionTypeRankIndex ON globi(targetTaxonName, interactionTypeName, targetTaxonRank, sourceTaxonRank)')"
   ]
  },
  {
   "cell_type": "code",
   "execution_count": 15,
   "metadata": {},
   "outputs": [
    {
     "data": {
      "text/plain": [
       "<sqlite3.Cursor at 0x225d4a983b0>"
      ]
     },
     "execution_count": 15,
     "metadata": {},
     "output_type": "execute_result"
    }
   ],
   "source": [
    "conn.execute('CREATE INDEX IF NOT EXISTS sourceAndInteractionTypeRankIndex ON globi(sourceTaxonName, interactionTypeName, targetTaxonRank, sourceTaxonRank)')"
   ]
  },
  {
   "cell_type": "code",
   "execution_count": 16,
   "metadata": {},
   "outputs": [
    {
     "data": {
      "text/plain": [
       "<sqlite3.Cursor at 0x225d4a98500>"
      ]
     },
     "execution_count": 16,
     "metadata": {},
     "output_type": "execute_result"
    }
   ],
   "source": [
    "conn.execute('CREATE INDEX IF NOT EXISTS sourceTargetAndInteractionTypeRankIndex ON globi(targetTaxonName, sourceTaxonName, interactionTypeName, targetTaxonRank, sourceTaxonRank)')"
   ]
  },
  {
   "cell_type": "code",
   "execution_count": 17,
   "metadata": {},
   "outputs": [
    {
     "data": {
      "text/plain": [
       "<sqlite3.Cursor at 0x225d4a98650>"
      ]
     },
     "execution_count": 17,
     "metadata": {},
     "output_type": "execute_result"
    }
   ],
   "source": [
    "conn.execute('CREATE INDEX IF NOT EXISTS sourceTaxonRankIndex ON globi(sourceTaxonRank)')"
   ]
  },
  {
   "cell_type": "code",
   "execution_count": 18,
   "metadata": {},
   "outputs": [
    {
     "data": {
      "text/plain": [
       "<sqlite3.Cursor at 0x225d4a987a0>"
      ]
     },
     "execution_count": 18,
     "metadata": {},
     "output_type": "execute_result"
    }
   ],
   "source": [
    "conn.execute('CREATE INDEX IF NOT EXISTS targetTaxonRankIndex ON globi(targetTaxonName, targetTaxonRank, sourceTaxonRank)')"
   ]
  },
  {
   "cell_type": "code",
   "execution_count": 19,
   "metadata": {},
   "outputs": [
    {
     "data": {
      "text/plain": [
       "<sqlite3.Cursor at 0x225d4a988f0>"
      ]
     },
     "execution_count": 19,
     "metadata": {},
     "output_type": "execute_result"
    }
   ],
   "source": [
    "conn.execute('CREATE INDEX IF NOT EXISTS sourceTaxonRankIndex ON globi(sourceTaxonName, sourceTaxonRank, targetTaxonRank)')"
   ]
  },
  {
   "cell_type": "code",
   "execution_count": 20,
   "metadata": {},
   "outputs": [
    {
     "data": {
      "text/plain": [
       "<sqlite3.Cursor at 0x225d4a98960>"
      ]
     },
     "execution_count": 20,
     "metadata": {},
     "output_type": "execute_result"
    }
   ],
   "source": [
    "conn.execute('CREATE INDEX IF NOT EXISTS taxonRankIndex ON globi(sourceTaxonRank,targetTaxonRank)')"
   ]
  },
  {
   "cell_type": "markdown",
   "metadata": {},
   "source": [
    "# Species indexes"
   ]
  },
  {
   "cell_type": "code",
   "execution_count": 21,
   "metadata": {},
   "outputs": [
    {
     "data": {
      "text/plain": [
       "<sqlite3.Cursor at 0x225d4a98b90>"
      ]
     },
     "execution_count": 21,
     "metadata": {},
     "output_type": "execute_result"
    }
   ],
   "source": [
    "conn.execute('CREATE INDEX IF NOT EXISTS sourceSpAndInteractionTypeIndex ON globi(sourceTaxonSpeciesName, interactionTypeName)')"
   ]
  },
  {
   "cell_type": "code",
   "execution_count": 22,
   "metadata": {},
   "outputs": [
    {
     "data": {
      "text/plain": [
       "<sqlite3.Cursor at 0x225d4a98ce0>"
      ]
     },
     "execution_count": 22,
     "metadata": {},
     "output_type": "execute_result"
    }
   ],
   "source": [
    "conn.execute('CREATE INDEX IF NOT EXISTS targetSpAndInteractionTypeIndex ON globi(targetTaxonSpeciesName, interactionTypeName)')"
   ]
  },
  {
   "cell_type": "code",
   "execution_count": 23,
   "metadata": {},
   "outputs": [
    {
     "data": {
      "text/plain": [
       "<sqlite3.Cursor at 0x225d4a98e30>"
      ]
     },
     "execution_count": 23,
     "metadata": {},
     "output_type": "execute_result"
    }
   ],
   "source": [
    "conn.execute('CREATE INDEX IF NOT EXISTS sourceSpTaxonNameIndex ON globi(sourceTaxonSpeciesName)')"
   ]
  },
  {
   "cell_type": "code",
   "execution_count": 24,
   "metadata": {},
   "outputs": [
    {
     "data": {
      "text/plain": [
       "<sqlite3.Cursor at 0x225d4a98f80>"
      ]
     },
     "execution_count": 24,
     "metadata": {},
     "output_type": "execute_result"
    }
   ],
   "source": [
    "conn.execute('CREATE INDEX IF NOT EXISTS sourceSpTaxonNameIndex ON globi(targetTaxonSpeciesName)')"
   ]
  },
  {
   "cell_type": "code",
   "execution_count": 25,
   "metadata": {},
   "outputs": [
    {
     "data": {
      "text/plain": [
       "<sqlite3.Cursor at 0x225d4a98f10>"
      ]
     },
     "execution_count": 25,
     "metadata": {},
     "output_type": "execute_result"
    }
   ],
   "source": [
    "conn.execute('CREATE INDEX IF NOT EXISTS sourceTargetSpTaxonNameIndex ON globi(sourceTaxonSpeciesName,targetTaxonSpeciesName)')"
   ]
  },
  {
   "cell_type": "markdown",
   "metadata": {},
   "source": [
    "## Run a quick check to make sure the indexes work as expected."
   ]
  },
  {
   "cell_type": "code",
   "execution_count": 26,
   "metadata": {},
   "outputs": [
    {
     "data": {
      "text/html": [
       "<div>\n",
       "<style scoped>\n",
       "    .dataframe tbody tr th:only-of-type {\n",
       "        vertical-align: middle;\n",
       "    }\n",
       "\n",
       "    .dataframe tbody tr th {\n",
       "        vertical-align: top;\n",
       "    }\n",
       "\n",
       "    .dataframe thead th {\n",
       "        text-align: right;\n",
       "    }\n",
       "</style>\n",
       "<table border=\"1\" class=\"dataframe\">\n",
       "  <thead>\n",
       "    <tr style=\"text-align: right;\">\n",
       "      <th></th>\n",
       "      <th>id</th>\n",
       "      <th>parent</th>\n",
       "      <th>notused</th>\n",
       "      <th>detail</th>\n",
       "    </tr>\n",
       "  </thead>\n",
       "  <tbody>\n",
       "    <tr>\n",
       "      <th>0</th>\n",
       "      <td>2</td>\n",
       "      <td>0</td>\n",
       "      <td>0</td>\n",
       "      <td>SCAN TABLE globi USING COVERING INDEX sourceAn...</td>\n",
       "    </tr>\n",
       "  </tbody>\n",
       "</table>\n",
       "</div>"
      ],
      "text/plain": [
       "   id  parent  notused                                             detail\n",
       "0   2       0        0  SCAN TABLE globi USING COVERING INDEX sourceAn..."
      ]
     },
     "execution_count": 26,
     "metadata": {},
     "output_type": "execute_result"
    }
   ],
   "source": [
    "pd.read_sql_query('EXPLAIN QUERY PLAN SELECT sourceTaxonName FROM globi WHERE interactionTypeName = \"visitsFlowersOf\"', conn)"
   ]
  },
  {
   "cell_type": "markdown",
   "metadata": {},
   "source": [
    "## Check if something is in the database"
   ]
  },
  {
   "cell_type": "code",
   "execution_count": 27,
   "metadata": {
    "scrolled": true
   },
   "outputs": [
    {
     "data": {
      "text/html": [
       "<div>\n",
       "<style scoped>\n",
       "    .dataframe tbody tr th:only-of-type {\n",
       "        vertical-align: middle;\n",
       "    }\n",
       "\n",
       "    .dataframe tbody tr th {\n",
       "        vertical-align: top;\n",
       "    }\n",
       "\n",
       "    .dataframe thead th {\n",
       "        text-align: right;\n",
       "    }\n",
       "</style>\n",
       "<table border=\"1\" class=\"dataframe\">\n",
       "  <thead>\n",
       "    <tr style=\"text-align: right;\">\n",
       "      <th></th>\n",
       "      <th>sourceTaxonId</th>\n",
       "      <th>sourceTaxonIds</th>\n",
       "      <th>sourceTaxonName</th>\n",
       "      <th>sourceTaxonRank</th>\n",
       "      <th>sourceTaxonPathNames</th>\n",
       "      <th>sourceTaxonPathIds</th>\n",
       "      <th>sourceTaxonPathRankNames</th>\n",
       "      <th>sourceTaxonSpeciesName</th>\n",
       "      <th>sourceTaxonSpeciesId</th>\n",
       "      <th>sourceTaxonGenusName</th>\n",
       "      <th>...</th>\n",
       "      <th>eventDateUnixEpoch</th>\n",
       "      <th>argumentTypeId</th>\n",
       "      <th>referenceCitation</th>\n",
       "      <th>referenceDoi</th>\n",
       "      <th>referenceUrl</th>\n",
       "      <th>sourceCitation</th>\n",
       "      <th>sourceNamespace</th>\n",
       "      <th>sourceArchiveURI</th>\n",
       "      <th>sourceDOI</th>\n",
       "      <th>sourceLastSeenAtUnixEpoch</th>\n",
       "    </tr>\n",
       "  </thead>\n",
       "  <tbody>\n",
       "    <tr>\n",
       "      <th>0</th>\n",
       "      <td>sourceTaxonId</td>\n",
       "      <td>sourceTaxonIds</td>\n",
       "      <td>sourceTaxonName</td>\n",
       "      <td>sourceTaxonRank</td>\n",
       "      <td>sourceTaxonPathNames</td>\n",
       "      <td>sourceTaxonPathIds</td>\n",
       "      <td>sourceTaxonPathRankNames</td>\n",
       "      <td>sourceTaxonSpeciesName</td>\n",
       "      <td>sourceTaxonSpeciesId</td>\n",
       "      <td>sourceTaxonGenusName</td>\n",
       "      <td>...</td>\n",
       "      <td>eventDateUnixEpoch</td>\n",
       "      <td>argumentTypeId</td>\n",
       "      <td>referenceCitation</td>\n",
       "      <td>referenceDoi</td>\n",
       "      <td>referenceUrl</td>\n",
       "      <td>sourceCitation</td>\n",
       "      <td>sourceNamespace</td>\n",
       "      <td>sourceArchiveURI</td>\n",
       "      <td>sourceDOI</td>\n",
       "      <td>sourceLastSeenAtUnixEpoch\\n</td>\n",
       "    </tr>\n",
       "    <tr>\n",
       "      <th>1</th>\n",
       "      <td>FBC:FB:SpecCode:126</td>\n",
       "      <td>EOL_V2:2804347 | FBC:FB:SpecCode:126 | GBIF:23...</td>\n",
       "      <td>Scomberomorus maculatus</td>\n",
       "      <td>species</td>\n",
       "      <td>Actinopterygii | Perciformes | Scombridae | Sc...</td>\n",
       "      <td></td>\n",
       "      <td>class | order | family | genus | species</td>\n",
       "      <td>Scomberomorus maculatus</td>\n",
       "      <td></td>\n",
       "      <td>Scomberomorus</td>\n",
       "      <td>...</td>\n",
       "      <td>368175600000</td>\n",
       "      <td>https://en.wiktionary.org/wiki/support</td>\n",
       "      <td>Carl Saloman, Steven Naughton. 1983. Food of S...</td>\n",
       "      <td></td>\n",
       "      <td></td>\n",
       "      <td>http://gomexsi.tamucc.edu</td>\n",
       "      <td>GoMexSI/abascal</td>\n",
       "      <td>https://github.com/GoMexSI/abascal/archive/d2b...</td>\n",
       "      <td></td>\n",
       "      <td>2020-06-16T02:47:56.442Z\\n</td>\n",
       "    </tr>\n",
       "    <tr>\n",
       "      <th>2</th>\n",
       "      <td>FBC:FB:SpecCode:126</td>\n",
       "      <td>EOL_V2:2804347 | FBC:FB:SpecCode:126 | GBIF:23...</td>\n",
       "      <td>Scomberomorus maculatus</td>\n",
       "      <td>species</td>\n",
       "      <td>Actinopterygii | Perciformes | Scombridae | Sc...</td>\n",
       "      <td></td>\n",
       "      <td>class | order | family | genus | species</td>\n",
       "      <td>Scomberomorus maculatus</td>\n",
       "      <td></td>\n",
       "      <td>Scomberomorus</td>\n",
       "      <td>...</td>\n",
       "      <td>368175600000</td>\n",
       "      <td>https://en.wiktionary.org/wiki/support</td>\n",
       "      <td>Carl Saloman, Steven Naughton. 1983. Food of S...</td>\n",
       "      <td></td>\n",
       "      <td></td>\n",
       "      <td>http://gomexsi.tamucc.edu</td>\n",
       "      <td>GoMexSI/abascal</td>\n",
       "      <td>https://github.com/GoMexSI/abascal/archive/d2b...</td>\n",
       "      <td></td>\n",
       "      <td>2020-06-16T02:47:56.442Z\\n</td>\n",
       "    </tr>\n",
       "    <tr>\n",
       "      <th>3</th>\n",
       "      <td>FBC:FB:SpecCode:126</td>\n",
       "      <td>EOL_V2:2804347 | FBC:FB:SpecCode:126 | GBIF:23...</td>\n",
       "      <td>Scomberomorus maculatus</td>\n",
       "      <td>species</td>\n",
       "      <td>Actinopterygii | Perciformes | Scombridae | Sc...</td>\n",
       "      <td></td>\n",
       "      <td>class | order | family | genus | species</td>\n",
       "      <td>Scomberomorus maculatus</td>\n",
       "      <td></td>\n",
       "      <td>Scomberomorus</td>\n",
       "      <td>...</td>\n",
       "      <td>368175600000</td>\n",
       "      <td>https://en.wiktionary.org/wiki/support</td>\n",
       "      <td>Carl Saloman, Steven Naughton. 1983. Food of S...</td>\n",
       "      <td></td>\n",
       "      <td></td>\n",
       "      <td>http://gomexsi.tamucc.edu</td>\n",
       "      <td>GoMexSI/abascal</td>\n",
       "      <td>https://github.com/GoMexSI/abascal/archive/d2b...</td>\n",
       "      <td></td>\n",
       "      <td>2020-06-16T02:47:56.442Z\\n</td>\n",
       "    </tr>\n",
       "    <tr>\n",
       "      <th>4</th>\n",
       "      <td>FBC:FB:SpecCode:126</td>\n",
       "      <td>EOL_V2:2804347 | FBC:FB:SpecCode:126 | GBIF:23...</td>\n",
       "      <td>Scomberomorus maculatus</td>\n",
       "      <td>species</td>\n",
       "      <td>Actinopterygii | Perciformes | Scombridae | Sc...</td>\n",
       "      <td></td>\n",
       "      <td>class | order | family | genus | species</td>\n",
       "      <td>Scomberomorus maculatus</td>\n",
       "      <td></td>\n",
       "      <td>Scomberomorus</td>\n",
       "      <td>...</td>\n",
       "      <td>368175600000</td>\n",
       "      <td>https://en.wiktionary.org/wiki/support</td>\n",
       "      <td>Carl Saloman, Steven Naughton. 1983. Food of S...</td>\n",
       "      <td></td>\n",
       "      <td></td>\n",
       "      <td>http://gomexsi.tamucc.edu</td>\n",
       "      <td>GoMexSI/abascal</td>\n",
       "      <td>https://github.com/GoMexSI/abascal/archive/d2b...</td>\n",
       "      <td></td>\n",
       "      <td>2020-06-16T02:47:56.442Z\\n</td>\n",
       "    </tr>\n",
       "  </tbody>\n",
       "</table>\n",
       "<p>5 rows × 84 columns</p>\n",
       "</div>"
      ],
      "text/plain": [
       "         sourceTaxonId                                     sourceTaxonIds  \\\n",
       "0        sourceTaxonId                                     sourceTaxonIds   \n",
       "1  FBC:FB:SpecCode:126  EOL_V2:2804347 | FBC:FB:SpecCode:126 | GBIF:23...   \n",
       "2  FBC:FB:SpecCode:126  EOL_V2:2804347 | FBC:FB:SpecCode:126 | GBIF:23...   \n",
       "3  FBC:FB:SpecCode:126  EOL_V2:2804347 | FBC:FB:SpecCode:126 | GBIF:23...   \n",
       "4  FBC:FB:SpecCode:126  EOL_V2:2804347 | FBC:FB:SpecCode:126 | GBIF:23...   \n",
       "\n",
       "           sourceTaxonName  sourceTaxonRank  \\\n",
       "0          sourceTaxonName  sourceTaxonRank   \n",
       "1  Scomberomorus maculatus          species   \n",
       "2  Scomberomorus maculatus          species   \n",
       "3  Scomberomorus maculatus          species   \n",
       "4  Scomberomorus maculatus          species   \n",
       "\n",
       "                                sourceTaxonPathNames  sourceTaxonPathIds  \\\n",
       "0                               sourceTaxonPathNames  sourceTaxonPathIds   \n",
       "1  Actinopterygii | Perciformes | Scombridae | Sc...                       \n",
       "2  Actinopterygii | Perciformes | Scombridae | Sc...                       \n",
       "3  Actinopterygii | Perciformes | Scombridae | Sc...                       \n",
       "4  Actinopterygii | Perciformes | Scombridae | Sc...                       \n",
       "\n",
       "                   sourceTaxonPathRankNames   sourceTaxonSpeciesName  \\\n",
       "0                  sourceTaxonPathRankNames   sourceTaxonSpeciesName   \n",
       "1  class | order | family | genus | species  Scomberomorus maculatus   \n",
       "2  class | order | family | genus | species  Scomberomorus maculatus   \n",
       "3  class | order | family | genus | species  Scomberomorus maculatus   \n",
       "4  class | order | family | genus | species  Scomberomorus maculatus   \n",
       "\n",
       "   sourceTaxonSpeciesId  sourceTaxonGenusName  ...  eventDateUnixEpoch  \\\n",
       "0  sourceTaxonSpeciesId  sourceTaxonGenusName  ...  eventDateUnixEpoch   \n",
       "1                               Scomberomorus  ...        368175600000   \n",
       "2                               Scomberomorus  ...        368175600000   \n",
       "3                               Scomberomorus  ...        368175600000   \n",
       "4                               Scomberomorus  ...        368175600000   \n",
       "\n",
       "                           argumentTypeId  \\\n",
       "0                          argumentTypeId   \n",
       "1  https://en.wiktionary.org/wiki/support   \n",
       "2  https://en.wiktionary.org/wiki/support   \n",
       "3  https://en.wiktionary.org/wiki/support   \n",
       "4  https://en.wiktionary.org/wiki/support   \n",
       "\n",
       "                                   referenceCitation  referenceDoi  \\\n",
       "0                                  referenceCitation  referenceDoi   \n",
       "1  Carl Saloman, Steven Naughton. 1983. Food of S...                 \n",
       "2  Carl Saloman, Steven Naughton. 1983. Food of S...                 \n",
       "3  Carl Saloman, Steven Naughton. 1983. Food of S...                 \n",
       "4  Carl Saloman, Steven Naughton. 1983. Food of S...                 \n",
       "\n",
       "   referenceUrl             sourceCitation  sourceNamespace  \\\n",
       "0  referenceUrl             sourceCitation  sourceNamespace   \n",
       "1                http://gomexsi.tamucc.edu  GoMexSI/abascal   \n",
       "2                http://gomexsi.tamucc.edu  GoMexSI/abascal   \n",
       "3                http://gomexsi.tamucc.edu  GoMexSI/abascal   \n",
       "4                http://gomexsi.tamucc.edu  GoMexSI/abascal   \n",
       "\n",
       "                                    sourceArchiveURI  sourceDOI  \\\n",
       "0                                   sourceArchiveURI  sourceDOI   \n",
       "1  https://github.com/GoMexSI/abascal/archive/d2b...              \n",
       "2  https://github.com/GoMexSI/abascal/archive/d2b...              \n",
       "3  https://github.com/GoMexSI/abascal/archive/d2b...              \n",
       "4  https://github.com/GoMexSI/abascal/archive/d2b...              \n",
       "\n",
       "     sourceLastSeenAtUnixEpoch  \n",
       "0  sourceLastSeenAtUnixEpoch\\n  \n",
       "1   2020-06-16T02:47:56.442Z\\n  \n",
       "2   2020-06-16T02:47:56.442Z\\n  \n",
       "3   2020-06-16T02:47:56.442Z\\n  \n",
       "4   2020-06-16T02:47:56.442Z\\n  \n",
       "\n",
       "[5 rows x 84 columns]"
      ]
     },
     "execution_count": 27,
     "metadata": {},
     "output_type": "execute_result"
    }
   ],
   "source": [
    "#dups = pd.read_sql_query('SELECT sourceTaxonRank FROM globi GROUP BY sourceTaxonRank', conn)\n",
    "select = pd.read_sql_query('SELECT * FROM globi LIMIT 5', conn)\n",
    "select"
   ]
  },
  {
   "cell_type": "code",
   "execution_count": 28,
   "metadata": {},
   "outputs": [],
   "source": [
    "select = pd.read_sql_query('SELECT sourceTaxonName from globi where targetTaxonName = \"Prunus serotina\"', conn)"
   ]
  },
  {
   "cell_type": "code",
   "execution_count": 29,
   "metadata": {},
   "outputs": [
    {
     "data": {
      "text/html": [
       "<div>\n",
       "<style scoped>\n",
       "    .dataframe tbody tr th:only-of-type {\n",
       "        vertical-align: middle;\n",
       "    }\n",
       "\n",
       "    .dataframe tbody tr th {\n",
       "        vertical-align: top;\n",
       "    }\n",
       "\n",
       "    .dataframe thead th {\n",
       "        text-align: right;\n",
       "    }\n",
       "</style>\n",
       "<table border=\"1\" class=\"dataframe\">\n",
       "  <thead>\n",
       "    <tr style=\"text-align: right;\">\n",
       "      <th></th>\n",
       "      <th>sourceTaxonName</th>\n",
       "    </tr>\n",
       "  </thead>\n",
       "  <tbody>\n",
       "    <tr>\n",
       "      <th>0</th>\n",
       "      <td>Acari</td>\n",
       "    </tr>\n",
       "    <tr>\n",
       "      <th>1</th>\n",
       "      <td>Acari</td>\n",
       "    </tr>\n",
       "    <tr>\n",
       "      <th>2</th>\n",
       "      <td>Acari</td>\n",
       "    </tr>\n",
       "    <tr>\n",
       "      <th>3</th>\n",
       "      <td>Acari</td>\n",
       "    </tr>\n",
       "    <tr>\n",
       "      <th>4</th>\n",
       "      <td>Acari</td>\n",
       "    </tr>\n",
       "    <tr>\n",
       "      <th>5</th>\n",
       "      <td>Acari</td>\n",
       "    </tr>\n",
       "    <tr>\n",
       "      <th>6</th>\n",
       "      <td>Acari</td>\n",
       "    </tr>\n",
       "    <tr>\n",
       "      <th>7</th>\n",
       "      <td>Acari</td>\n",
       "    </tr>\n",
       "    <tr>\n",
       "      <th>8</th>\n",
       "      <td>Acari</td>\n",
       "    </tr>\n",
       "    <tr>\n",
       "      <th>9</th>\n",
       "      <td>Acari</td>\n",
       "    </tr>\n",
       "    <tr>\n",
       "      <th>10</th>\n",
       "      <td>Acari</td>\n",
       "    </tr>\n",
       "    <tr>\n",
       "      <th>11</th>\n",
       "      <td>Acari</td>\n",
       "    </tr>\n",
       "    <tr>\n",
       "      <th>12</th>\n",
       "      <td>Acari</td>\n",
       "    </tr>\n",
       "    <tr>\n",
       "      <th>13</th>\n",
       "      <td>Acari</td>\n",
       "    </tr>\n",
       "    <tr>\n",
       "      <th>14</th>\n",
       "      <td>Acari</td>\n",
       "    </tr>\n",
       "    <tr>\n",
       "      <th>15</th>\n",
       "      <td>Acari</td>\n",
       "    </tr>\n",
       "    <tr>\n",
       "      <th>16</th>\n",
       "      <td>Acari</td>\n",
       "    </tr>\n",
       "    <tr>\n",
       "      <th>17</th>\n",
       "      <td>Acari</td>\n",
       "    </tr>\n",
       "    <tr>\n",
       "      <th>18</th>\n",
       "      <td>Acari</td>\n",
       "    </tr>\n",
       "    <tr>\n",
       "      <th>19</th>\n",
       "      <td>Acari</td>\n",
       "    </tr>\n",
       "    <tr>\n",
       "      <th>20</th>\n",
       "      <td>Acari</td>\n",
       "    </tr>\n",
       "    <tr>\n",
       "      <th>21</th>\n",
       "      <td>Acari</td>\n",
       "    </tr>\n",
       "    <tr>\n",
       "      <th>22</th>\n",
       "      <td>Acari</td>\n",
       "    </tr>\n",
       "    <tr>\n",
       "      <th>23</th>\n",
       "      <td>Acari</td>\n",
       "    </tr>\n",
       "    <tr>\n",
       "      <th>24</th>\n",
       "      <td>Acari</td>\n",
       "    </tr>\n",
       "    <tr>\n",
       "      <th>25</th>\n",
       "      <td>Acari</td>\n",
       "    </tr>\n",
       "    <tr>\n",
       "      <th>26</th>\n",
       "      <td>Acari</td>\n",
       "    </tr>\n",
       "    <tr>\n",
       "      <th>27</th>\n",
       "      <td>Acari</td>\n",
       "    </tr>\n",
       "    <tr>\n",
       "      <th>28</th>\n",
       "      <td>Acari</td>\n",
       "    </tr>\n",
       "    <tr>\n",
       "      <th>29</th>\n",
       "      <td>Acari</td>\n",
       "    </tr>\n",
       "    <tr>\n",
       "      <th>...</th>\n",
       "      <td>...</td>\n",
       "    </tr>\n",
       "    <tr>\n",
       "      <th>1489</th>\n",
       "      <td>Turdus philomelos</td>\n",
       "    </tr>\n",
       "    <tr>\n",
       "      <th>1490</th>\n",
       "      <td>Turdus philomelos</td>\n",
       "    </tr>\n",
       "    <tr>\n",
       "      <th>1491</th>\n",
       "      <td>Tyrannus tyrannus</td>\n",
       "    </tr>\n",
       "    <tr>\n",
       "      <th>1492</th>\n",
       "      <td>Tyrannus tyrannus</td>\n",
       "    </tr>\n",
       "    <tr>\n",
       "      <th>1493</th>\n",
       "      <td>Tyrannus tyrannus</td>\n",
       "    </tr>\n",
       "    <tr>\n",
       "      <th>1494</th>\n",
       "      <td>Tyrannus tyrannus</td>\n",
       "    </tr>\n",
       "    <tr>\n",
       "      <th>1495</th>\n",
       "      <td>Tyrannus tyrannus</td>\n",
       "    </tr>\n",
       "    <tr>\n",
       "      <th>1496</th>\n",
       "      <td>Tyrannus tyrannus</td>\n",
       "    </tr>\n",
       "    <tr>\n",
       "      <th>1497</th>\n",
       "      <td>Tyrannus tyrannus</td>\n",
       "    </tr>\n",
       "    <tr>\n",
       "      <th>1498</th>\n",
       "      <td>Ulmus thomasii</td>\n",
       "    </tr>\n",
       "    <tr>\n",
       "      <th>1499</th>\n",
       "      <td>Ulmus thomasii</td>\n",
       "    </tr>\n",
       "    <tr>\n",
       "      <th>1500</th>\n",
       "      <td>Ulmus thomasii</td>\n",
       "    </tr>\n",
       "    <tr>\n",
       "      <th>1501</th>\n",
       "      <td>Vanessa virginiensis</td>\n",
       "    </tr>\n",
       "    <tr>\n",
       "      <th>1502</th>\n",
       "      <td>Vanessa virginiensis</td>\n",
       "    </tr>\n",
       "    <tr>\n",
       "      <th>1503</th>\n",
       "      <td>Vanessa virginiensis</td>\n",
       "    </tr>\n",
       "    <tr>\n",
       "      <th>1504</th>\n",
       "      <td>Vespula</td>\n",
       "    </tr>\n",
       "    <tr>\n",
       "      <th>1505</th>\n",
       "      <td>Vespula maculifrons</td>\n",
       "    </tr>\n",
       "    <tr>\n",
       "      <th>1506</th>\n",
       "      <td>Vireo olivaceus</td>\n",
       "    </tr>\n",
       "    <tr>\n",
       "      <th>1507</th>\n",
       "      <td>Vireo olivaceus</td>\n",
       "    </tr>\n",
       "    <tr>\n",
       "      <th>1508</th>\n",
       "      <td>Vireo olivaceus</td>\n",
       "    </tr>\n",
       "    <tr>\n",
       "      <th>1509</th>\n",
       "      <td>Vireo olivaceus</td>\n",
       "    </tr>\n",
       "    <tr>\n",
       "      <th>1510</th>\n",
       "      <td>Vireo olivaceus</td>\n",
       "    </tr>\n",
       "    <tr>\n",
       "      <th>1511</th>\n",
       "      <td>Vireo olivaceus</td>\n",
       "    </tr>\n",
       "    <tr>\n",
       "      <th>1512</th>\n",
       "      <td>Vulpes vulpes</td>\n",
       "    </tr>\n",
       "    <tr>\n",
       "      <th>1513</th>\n",
       "      <td>Xylophagus lugens</td>\n",
       "    </tr>\n",
       "    <tr>\n",
       "      <th>1514</th>\n",
       "      <td>Zelus luridus</td>\n",
       "    </tr>\n",
       "    <tr>\n",
       "      <th>1515</th>\n",
       "      <td>Zelus luridus</td>\n",
       "    </tr>\n",
       "    <tr>\n",
       "      <th>1516</th>\n",
       "      <td>no name</td>\n",
       "    </tr>\n",
       "    <tr>\n",
       "      <th>1517</th>\n",
       "      <td>no name</td>\n",
       "    </tr>\n",
       "    <tr>\n",
       "      <th>1518</th>\n",
       "      <td>no name</td>\n",
       "    </tr>\n",
       "  </tbody>\n",
       "</table>\n",
       "<p>1519 rows × 1 columns</p>\n",
       "</div>"
      ],
      "text/plain": [
       "           sourceTaxonName\n",
       "0                    Acari\n",
       "1                    Acari\n",
       "2                    Acari\n",
       "3                    Acari\n",
       "4                    Acari\n",
       "5                    Acari\n",
       "6                    Acari\n",
       "7                    Acari\n",
       "8                    Acari\n",
       "9                    Acari\n",
       "10                   Acari\n",
       "11                   Acari\n",
       "12                   Acari\n",
       "13                   Acari\n",
       "14                   Acari\n",
       "15                   Acari\n",
       "16                   Acari\n",
       "17                   Acari\n",
       "18                   Acari\n",
       "19                   Acari\n",
       "20                   Acari\n",
       "21                   Acari\n",
       "22                   Acari\n",
       "23                   Acari\n",
       "24                   Acari\n",
       "25                   Acari\n",
       "26                   Acari\n",
       "27                   Acari\n",
       "28                   Acari\n",
       "29                   Acari\n",
       "...                    ...\n",
       "1489     Turdus philomelos\n",
       "1490     Turdus philomelos\n",
       "1491     Tyrannus tyrannus\n",
       "1492     Tyrannus tyrannus\n",
       "1493     Tyrannus tyrannus\n",
       "1494     Tyrannus tyrannus\n",
       "1495     Tyrannus tyrannus\n",
       "1496     Tyrannus tyrannus\n",
       "1497     Tyrannus tyrannus\n",
       "1498        Ulmus thomasii\n",
       "1499        Ulmus thomasii\n",
       "1500        Ulmus thomasii\n",
       "1501  Vanessa virginiensis\n",
       "1502  Vanessa virginiensis\n",
       "1503  Vanessa virginiensis\n",
       "1504               Vespula\n",
       "1505   Vespula maculifrons\n",
       "1506       Vireo olivaceus\n",
       "1507       Vireo olivaceus\n",
       "1508       Vireo olivaceus\n",
       "1509       Vireo olivaceus\n",
       "1510       Vireo olivaceus\n",
       "1511       Vireo olivaceus\n",
       "1512         Vulpes vulpes\n",
       "1513     Xylophagus lugens\n",
       "1514         Zelus luridus\n",
       "1515         Zelus luridus\n",
       "1516               no name\n",
       "1517               no name\n",
       "1518               no name\n",
       "\n",
       "[1519 rows x 1 columns]"
      ]
     },
     "execution_count": 29,
     "metadata": {},
     "output_type": "execute_result"
    }
   ],
   "source": [
    "select"
   ]
  },
  {
   "cell_type": "code",
   "execution_count": 16,
   "metadata": {},
   "outputs": [],
   "source": [
    "conn.close()"
   ]
  },
  {
   "cell_type": "code",
   "execution_count": null,
   "metadata": {},
   "outputs": [],
   "source": []
  }
 ],
 "metadata": {
  "kernelspec": {
   "display_name": "Python 3",
   "language": "python",
   "name": "python3"
  },
  "language_info": {
   "codemirror_mode": {
    "name": "ipython",
    "version": 3
   },
   "file_extension": ".py",
   "mimetype": "text/x-python",
   "name": "python",
   "nbconvert_exporter": "python",
   "pygments_lexer": "ipython3",
   "version": "3.7.3"
  }
 },
 "nbformat": 4,
 "nbformat_minor": 2
}
